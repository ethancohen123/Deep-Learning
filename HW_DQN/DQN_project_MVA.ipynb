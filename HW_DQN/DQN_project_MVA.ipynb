{
  "nbformat": 4,
  "nbformat_minor": 0,
  "metadata": {
    "kernelspec": {
      "name": "python3",
      "display_name": "Python 3"
    },
    "language_info": {
      "codemirror_mode": {
        "name": "ipython",
        "version": 3
      },
      "file_extension": ".py",
      "mimetype": "text/x-python",
      "name": "python",
      "nbconvert_exporter": "python",
      "pygments_lexer": "ipython3",
      "version": "3.5.7"
    },
    "colab": {
      "name": "DQN_project_MVA.ipynb",
      "provenance": [],
      "collapsed_sections": []
    },
    "accelerator": "GPU"
  },
  "cells": [
    {
      "cell_type": "markdown",
      "metadata": {
        "id": "SKDU7jmab9y4",
        "colab_type": "text"
      },
      "source": [
        "**You may need to install [OpenCV](https://pypi.python.org/pypi/opencv-python) and [scikit-video](http://www.scikit-video.org/stable/).**"
      ]
    },
    {
      "cell_type": "code",
      "metadata": {
        "id": "LmjIZWZLcJmS",
        "colab_type": "code",
        "colab": {}
      },
      "source": [
        "!pip install scikit_video"
      ],
      "execution_count": 0,
      "outputs": []
    },
    {
      "cell_type": "code",
      "metadata": {
        "id": "vRBynhSPb9y6",
        "colab_type": "code",
        "colab": {}
      },
      "source": [
        "import keras\n",
        "import numpy as np\n",
        "import io\n",
        "import base64\n",
        "from IPython.display import HTML\n",
        "import skvideo.io\n",
        "import cv2\n",
        "import json\n",
        "\n",
        "from keras.models import Sequential,model_from_json\n",
        "from keras.layers.core import Dense\n",
        "from keras.optimizers import sgd\n",
        "from keras.layers import Conv2D, MaxPooling2D, Activation, AveragePooling2D,Reshape,BatchNormalization, Flatten"
      ],
      "execution_count": 0,
      "outputs": []
    },
    {
      "cell_type": "markdown",
      "metadata": {
        "id": "zCo2bpF9b9y-",
        "colab_type": "text"
      },
      "source": [
        "# MiniProject on Deep Reinforcement Learning"
      ]
    },
    {
      "cell_type": "markdown",
      "metadata": {
        "id": "ySSoxVQRb9y_",
        "colab_type": "text"
      },
      "source": [
        "__Notations__: $E_p$ is the expectation under probability $p$. Please justify each of your answer and widely comment your code."
      ]
    },
    {
      "cell_type": "markdown",
      "metadata": {
        "id": "Y2pE6Krwb9zA",
        "colab_type": "text"
      },
      "source": [
        "# Context"
      ]
    },
    {
      "cell_type": "markdown",
      "metadata": {
        "id": "ihaodQi5b9zC",
        "colab_type": "text"
      },
      "source": [
        "In a reinforcement learning algorithm, we modelize each step $t$ as an action $a_t$ obtained from a state $s_t$, i.e. $\\{(a_{t},s_{t})_{t\\leq T}\\}$ having the Markov property. We consider a discount factor $\\gamma \\in [0,1]$ that ensures convergence. The goal is to find among all the policies $\\pi$, one that maximizes the expected reward:\n",
        "\n",
        "\\begin{equation*}\n",
        "R(\\pi)=\\sum_{t\\leq T}E_{p^{\\pi}}[\\gamma^t r(s_{t},a_{t})] \\> ,\n",
        "\\end{equation*}\n",
        "\n",
        "where: \n",
        "\\begin{equation*}p^{\\pi}(a_{0},a_{1},s_{1},...,a_{T},s_{T})=p(a_{0})\\prod_{t=1}^{T}\\pi(a_{t}|s_{t})p(s_{t+1}|s_{t},a_{t}) \\> .\n",
        "\\end{equation*}\n",
        "\n",
        "We note the $Q$-function:\n",
        "\n",
        "\\begin{equation*}Q^\\pi(s,a)=E_{p^{\\pi}}[\\sum_{t\\leq T}\\gamma^{t}r(s_{t},a_{t})|s_{0}=s,a_{0}=a] \\> .\n",
        "\\end{equation*}\n",
        "\n",
        "Thus, the optimal Q function is:\n",
        "\\begin{equation*}\n",
        "Q^*(s,a)=\\max_{\\pi}Q^\\pi(s,a) \\> .\n",
        "\\end{equation*}\n",
        "\n",
        "In this project, we will apply the deep reinforcement learning techniques to a simple game: an agent will have to learn from scratch a policy that will permit it maximizing a reward."
      ]
    },
    {
      "cell_type": "markdown",
      "metadata": {
        "id": "vp6Ah5Z_b9zD",
        "colab_type": "text"
      },
      "source": [
        "## The environment, the agent and the game"
      ]
    },
    {
      "cell_type": "markdown",
      "metadata": {
        "id": "Ee1ltjIob9zF",
        "colab_type": "text"
      },
      "source": [
        "### The environment"
      ]
    },
    {
      "cell_type": "markdown",
      "metadata": {
        "id": "F3MWRpThb9zG",
        "colab_type": "text"
      },
      "source": [
        "```Environment``` is an abstract class that represents the states, rewards, and actions to obtain the new state."
      ]
    },
    {
      "cell_type": "code",
      "metadata": {
        "id": "0K7gTq_Gb9zH",
        "colab_type": "code",
        "colab": {}
      },
      "source": [
        "class Environment(object):\n",
        "    def __init__(self):\n",
        "        pass\n",
        "\n",
        "    def act(self, act):\n",
        "        \"\"\"\n",
        "        One can act on the environment and obtain its reaction:\n",
        "        - the new state\n",
        "        - the reward of the new state\n",
        "        - should we continue the game?\n",
        "\n",
        "        :return: state, reward, game_over\n",
        "        \"\"\"\n",
        "        pass\n",
        "\n",
        "\n",
        "    def reset(self):\n",
        "        \"\"\"\n",
        "        Reinitialize the environment to a random state and returns\n",
        "        the original state\n",
        "\n",
        "        :return: state\n",
        "        \"\"\"\n",
        "        pass\n",
        "    \n",
        "    def draw(self):\n",
        "        \"\"\"\n",
        "        Visualize in the console or graphically the current state\n",
        "        \"\"\"\n",
        "        pass"
      ],
      "execution_count": 0,
      "outputs": []
    },
    {
      "cell_type": "markdown",
      "metadata": {
        "id": "S3RRcKkhb9zK",
        "colab_type": "text"
      },
      "source": [
        "The method ```act``` allows to act on the environment at a given state $s_t$ (stored internally), via action $a_t$. The method will return the new state $s_{t+1}$, the reward $r(s_{t},a_{t})$ and determines if $t\\leq T$ (*game_over*).\n",
        "\n",
        "The method ```reset``` simply reinitializes the environment to a random state $s_0$.\n",
        "\n",
        "The method ```draw``` displays the current state $s_t$ (this is useful to check the behavior of the Agent).\n",
        "\n",
        "We modelize $s_t$ as a tensor, while $a_t$ is an integer."
      ]
    },
    {
      "cell_type": "markdown",
      "metadata": {
        "id": "Zgo2O9Iwb9zM",
        "colab_type": "text"
      },
      "source": [
        "### The Agent"
      ]
    },
    {
      "cell_type": "markdown",
      "metadata": {
        "id": "pjU4_dZZb9zM",
        "colab_type": "text"
      },
      "source": [
        "The goal of the ```Agent``` is to interact with the ```Environment``` by proposing actions $a_t$ obtained from a given state $s_t$ to attempt to maximize its __reward__ $r(s_t,a_t)$. We propose the following abstract class:"
      ]
    },
    {
      "cell_type": "code",
      "metadata": {
        "id": "fULqeTHqb9zN",
        "colab_type": "code",
        "colab": {}
      },
      "source": [
        "class Agent(object):\n",
        "    def __init__(self, epsilon=0.1, n_action=4):\n",
        "        self.epsilon = epsilon\n",
        "        self.n_action = n_action\n",
        "    \n",
        "    def set_epsilon(self,e):\n",
        "        self.epsilon = e\n",
        "\n",
        "    def act(self,s,train=True):\n",
        "        \"\"\" This function should return the next action to do:\n",
        "        an integer between 0 and 4 (not included) with a random exploration of epsilon\"\"\"\n",
        "        if train:\n",
        "            if np.random.rand() <= self.epsilon:\n",
        "                a = np.random.randint(0, self.n_action, size=1)[0]\n",
        "            else:\n",
        "                a = self.learned_act(s)\n",
        "        else: # in some cases, this can improve the performance.. remove it if poor performances\n",
        "            a = self.learned_act(s)\n",
        "\n",
        "        return a\n",
        "\n",
        "    def learned_act(self,s):\n",
        "        \"\"\" Act via the policy of the agent, from a given state s\n",
        "        it proposes an action a\"\"\"\n",
        "        pass\n",
        "\n",
        "    def reinforce(self, s, n_s, a, r, game_over_):\n",
        "        \"\"\" This function is the core of the learning algorithm. \n",
        "        It takes as an input the current state s_, the next state n_s_\n",
        "        the action a_ used to move from s_ to n_s_ and the reward r_.\n",
        "        \n",
        "        Its goal is to learn a policy.\n",
        "        \"\"\"\n",
        "        pass\n",
        "\n",
        "    def save(self):\n",
        "        \"\"\" This function returns basic stats if applicable: the\n",
        "        loss and/or the model\"\"\"\n",
        "        pass\n",
        "\n",
        "    def load(self):\n",
        "        \"\"\" This function allows to restore a model\"\"\"\n",
        "        pass"
      ],
      "execution_count": 0,
      "outputs": []
    },
    {
      "cell_type": "markdown",
      "metadata": {
        "id": "nKwH0fgsb9zR",
        "colab_type": "text"
      },
      "source": [
        "***\n",
        "__Question 1__:\n",
        "Explain the function act. Why is ```epsilon``` essential?"
      ]
    },
    {
      "cell_type": "markdown",
      "metadata": {
        "id": "2Hs_UMkmb9zS",
        "colab_type": "text"
      },
      "source": [
        "The act function takes as input the state of the game at t as well as the mode (training or evaluation) to return the action to be performed at t+1. This function use an ϵ-greedy strategy . This actually tackles the exploration-exploitation dilemma.\n",
        "\n",
        "For the training two cases are possible.\n",
        "Case 1: the action is chosen at random for exploration purposes. \n",
        "Case 2: the action is predicted from the state and level of knowledge of the network (poor at the beginning, rich at the end).\n",
        "The parameter epsilon is essential in the choice of case 1 or 2. This is the ϵ-greedy strategy. We observe that if epsilon = 0, then we will always be in case 2 and if epsilon =1, then we will be always in case 1.\n",
        "\n",
        "Epsilon is essential especially because if the return of the learned_act is poor and stuck in one action, the diversity will come from the case 1. That's why we call it discorvery parameter"
      ]
    },
    {
      "cell_type": "markdown",
      "metadata": {
        "id": "kNgAQAIPb9zV",
        "colab_type": "text"
      },
      "source": [
        "***\n",
        "### The Game"
      ]
    },
    {
      "cell_type": "markdown",
      "metadata": {
        "id": "MfRvoPs_b9zW",
        "colab_type": "text"
      },
      "source": [
        "The ```Agent``` and the ```Environment``` work in an interlaced way as in the following (take some time to understand this code as it is the core of the project)\n",
        "\n",
        "```python\n",
        "\n",
        "epoch = 300\n",
        "env = Environment()\n",
        "agent = Agent()\n",
        "\n",
        "\n",
        "# Number of won games\n",
        "score = 0\n",
        "loss = 0\n",
        "\n",
        "\n",
        "for e in range(epoch):\n",
        "    # At each epoch, we restart to a fresh game and get the initial state\n",
        "    state = env.reset()\n",
        "    # This assumes that the games will end\n",
        "    game_over = False\n",
        "\n",
        "    win = 0\n",
        "    lose = 0\n",
        "    \n",
        "    while not game_over:\n",
        "        # The agent performs an action\n",
        "        action = agent.act(state)\n",
        "\n",
        "        # Apply an action to the environment, get the next state, the reward\n",
        "        # and if the games end\n",
        "        prev_state = state\n",
        "        state, reward, game_over = env.act(action)\n",
        "\n",
        "        # Update the counters\n",
        "        if reward > 0:\n",
        "            win = win + reward\n",
        "        if reward < 0:\n",
        "            lose = lose -reward\n",
        "\n",
        "        # Apply the reinforcement strategy\n",
        "        loss = agent.reinforce(prev_state, state,  action, reward, game_over)\n",
        "\n",
        "    # Save as a mp4\n",
        "    if e % 10 == 0:\n",
        "        env.draw(e)\n",
        "\n",
        "    # Update stats\n",
        "    score += win-lose\n",
        "\n",
        "    print(\"Epoch {:03d}/{:03d} | Loss {:.4f} | Win/lose count {}/{} ({})\"\n",
        "          .format(e, epoch, loss, win, lose, win-lose))\n",
        "    agent.save()\n",
        "```"
      ]
    },
    {
      "cell_type": "markdown",
      "metadata": {
        "id": "vE2v42zZb9zX",
        "colab_type": "text"
      },
      "source": [
        "# The game, *eat cheese*"
      ]
    },
    {
      "cell_type": "markdown",
      "metadata": {
        "id": "kAkMKw5Vb9zY",
        "colab_type": "text"
      },
      "source": [
        "A rat runs on an island and tries to eat as much as possible. The island is subdivided into $N\\times N$ cells, in which there are cheese (+0.5) and poisonous cells (-1). The rat has a visibility of 2 cells (thus it can see $5^2$ cells). The rat is given a time $T$ to accumulate as much food as possible. It can perform 4 actions: going up, down, left, right. \n",
        "\n",
        "The goal is to code an agent to solve this task that will learn by trial and error. We propose the following environment:"
      ]
    },
    {
      "cell_type": "code",
      "metadata": {
        "id": "JL9Mo8Teb9zZ",
        "colab_type": "code",
        "colab": {}
      },
      "source": [
        "class Environment(object):\n",
        "    def __init__(self, grid_size=10, max_time=500, temperature=0.1):\n",
        "        grid_size = grid_size+4\n",
        "        self.grid_size = grid_size\n",
        "        self.max_time = max_time\n",
        "        self.temperature = temperature\n",
        "\n",
        "        #board on which one plays\n",
        "        self.board = np.zeros((grid_size,grid_size))\n",
        "        self.position = np.zeros((grid_size,grid_size))\n",
        "\n",
        "        # coordinate of the cat\n",
        "        self.x = 0\n",
        "        self.y = 1\n",
        "\n",
        "        # self time\n",
        "        self.t = 0\n",
        "\n",
        "        self.scale=16\n",
        "\n",
        "        self.to_draw = np.zeros((max_time+2, grid_size*self.scale, grid_size*self.scale, 3))\n",
        "\n",
        "\n",
        "    def draw(self,e):\n",
        "        skvideo.io.vwrite(str(e) + '.mp4', self.to_draw)\n",
        "\n",
        "    def get_frame(self,t):\n",
        "        b = np.zeros((self.grid_size,self.grid_size,3))+128\n",
        "        b[self.board>0,0] = 256\n",
        "        b[self.board < 0, 2] = 256\n",
        "        b[self.x,self.y,:]=256\n",
        "        b[-2:,:,:]=0\n",
        "        b[:,-2:,:]=0\n",
        "        b[:2,:,:]=0\n",
        "        b[:,:2,:]=0\n",
        "        \n",
        "        b =  cv2.resize(b, None, fx=self.scale, fy=self.scale, interpolation=cv2.INTER_NEAREST)\n",
        "\n",
        "        self.to_draw[t,:,:,:]=b\n",
        "\n",
        "\n",
        "    def act(self, action):\n",
        "        \"\"\"This function returns the new state, reward and decides if the\n",
        "        game ends.\"\"\"\n",
        "\n",
        "        self.get_frame(int(self.t))\n",
        "\n",
        "        self.position = np.zeros((self.grid_size, self.grid_size))\n",
        "\n",
        "        self.position[0:2,:]= -1\n",
        "        self.position[:,0:2] = -1\n",
        "        self.position[-2:, :] = -1\n",
        "        self.position[-2:, :] = -1\n",
        "\n",
        "        self.position[self.x, self.y] = 1\n",
        "        if action == 0:\n",
        "            if self.x == self.grid_size-3:\n",
        "                self.x = self.x-1\n",
        "            else:\n",
        "                self.x = self.x + 1\n",
        "        elif action == 1:\n",
        "            if self.x == 2:\n",
        "                self.x = self.x+1\n",
        "            else:\n",
        "                self.x = self.x-1\n",
        "        elif action == 2:\n",
        "            if self.y == self.grid_size - 3:\n",
        "                self.y = self.y - 1\n",
        "            else:\n",
        "                self.y = self.y + 1\n",
        "        elif action == 3:\n",
        "            if self.y == 2:\n",
        "                self.y = self.y + 1\n",
        "            else:\n",
        "                self.y = self.y - 1\n",
        "        else:\n",
        "            RuntimeError('Error: action not recognized')\n",
        "\n",
        "        self.t = self.t + 1\n",
        "        reward = self.board[self.x, self.y]\n",
        "        self.board[self.x, self.y] = 0\n",
        "        game_over = self.t > self.max_time\n",
        "        state = np.concatenate((self.board.reshape(self.grid_size, self.grid_size,1),\n",
        "                        self.position.reshape(self.grid_size, self.grid_size,1)),axis=2)\n",
        "        state = state[self.x-2:self.x+3,self.y-2:self.y+3,:]\n",
        "\n",
        "        return state, reward, game_over\n",
        "\n",
        "    def reset(self):\n",
        "        \"\"\"This function resets the game and returns the initial state\"\"\"\n",
        "\n",
        "        self.x = np.random.randint(3, self.grid_size-3, size=1)[0]\n",
        "        self.y = np.random.randint(3, self.grid_size-3, size=1)[0]\n",
        "\n",
        "\n",
        "        bonus = 0.5*np.random.binomial(1,self.temperature,size=self.grid_size**2)\n",
        "        bonus = bonus.reshape(self.grid_size,self.grid_size)\n",
        "\n",
        "        malus = -1.0*np.random.binomial(1,self.temperature,size=self.grid_size**2)\n",
        "        malus = malus.reshape(self.grid_size, self.grid_size)\n",
        "\n",
        "        self.to_draw = np.zeros((self.max_time+2, self.grid_size*self.scale, self.grid_size*self.scale, 3))\n",
        "\n",
        "\n",
        "        malus[bonus>0]=0\n",
        "\n",
        "        self.board = bonus + malus\n",
        "\n",
        "        self.position = np.zeros((self.grid_size, self.grid_size))\n",
        "        self.position[0:2,:]= -1\n",
        "        self.position[:,0:2] = -1\n",
        "        self.position[-2:, :] = -1\n",
        "        self.position[-2:, :] = -1\n",
        "        self.board[self.x,self.y] = 0\n",
        "        self.t = 0\n",
        "\n",
        "        state = np.concatenate((\n",
        "                               self.board.reshape(self.grid_size, self.grid_size,1),\n",
        "                        self.position.reshape(self.grid_size, self.grid_size,1)),axis=2)\n",
        "\n",
        "        state = state[self.x - 2:self.x + 3, self.y - 2:self.y + 3, :]\n",
        "        return state"
      ],
      "execution_count": 0,
      "outputs": []
    },
    {
      "cell_type": "markdown",
      "metadata": {
        "id": "a8bpSCU_b9zc",
        "colab_type": "text"
      },
      "source": [
        "The following elements are important because they correspond to the hyper parameters for this project:"
      ]
    },
    {
      "cell_type": "code",
      "metadata": {
        "id": "9MXlfEtLb9zd",
        "colab_type": "code",
        "colab": {}
      },
      "source": [
        "# parameters\n",
        "size = 13\n",
        "T=200\n",
        "temperature=0.3\n",
        "epochs_train=100 # set small when debugging\n",
        "epochs_test=50 # set small when debugging\n",
        "\n",
        "# display videos\n",
        "def display_videos(name):\n",
        "    video = io.open(name, 'r+b').read()\n",
        "    encoded = base64.b64encode(video)\n",
        "    return '''<video alt=\"test\" controls>\n",
        "                <source src=\"data:video/mp4;base64,{0}\" type=\"video/mp4\" />\n",
        "             </video>'''.format(encoded.decode('ascii'))"
      ],
      "execution_count": 0,
      "outputs": []
    },
    {
      "cell_type": "markdown",
      "metadata": {
        "id": "CqLBon4Zb9zh",
        "colab_type": "text"
      },
      "source": [
        "__Question 2__ Explain the use of the arrays ```position``` and ```board```."
      ]
    },
    {
      "cell_type": "markdown",
      "metadata": {
        "id": "C5GnivNMb9zi",
        "colab_type": "text"
      },
      "source": [
        "position is an array of shape (grid_size x grid_size) representing where the rat can go. The rat is on case where the value is 1. It can not go on case where there is a -1. It can go on case where there is a 0.\n",
        "\n",
        "board is an array of shape (grid_size x grid_size) representing the reward associated to each cell of the grid. The rat on case (x,y) will get the reward board (x,y). There is a -0.5 if there is a negative reward (malus), 1 if there is a positive reward (bonus) and 0 if there is no reward ."
      ]
    },
    {
      "cell_type": "markdown",
      "metadata": {
        "id": "R__Haj9Eb9zk",
        "colab_type": "text"
      },
      "source": [
        "## Random Agent"
      ]
    },
    {
      "cell_type": "markdown",
      "metadata": {
        "id": "qZ6Ug-D7b9zm",
        "colab_type": "text"
      },
      "source": [
        "***\n",
        "__Question 3__ Implement a random Agent (only ```learned_act``` needs to be implemented):"
      ]
    },
    {
      "cell_type": "code",
      "metadata": {
        "id": "CuvepNhvb9zn",
        "colab_type": "code",
        "colab": {}
      },
      "source": [
        "class RandomAgent(Agent):\n",
        "    def __init__(self):\n",
        "        super(RandomAgent, self).__init__()\n",
        "        pass\n",
        "\n",
        "    def learned_act(self, s):\n",
        "      return np.random.randint(0, self.n_action)"
      ],
      "execution_count": 0,
      "outputs": []
    },
    {
      "cell_type": "markdown",
      "metadata": {
        "id": "LLh0Dfwwb9zr",
        "colab_type": "text"
      },
      "source": [
        "***\n",
        "***\n",
        "__Question 4__ Visualize the game moves. You need to fill in the following function for the evaluation:"
      ]
    },
    {
      "cell_type": "code",
      "metadata": {
        "id": "Cnkrh-Hxb9zs",
        "colab_type": "code",
        "colab": {}
      },
      "source": [
        "def test(agent,env,epochs,prefix=''):\n",
        "    # Number of won games\n",
        "    score = 0\n",
        "        \n",
        "    for e in range(epochs):\n",
        "        state = env.reset()\n",
        "        win = 0\n",
        "        lose = 0\n",
        "        game_over = False\n",
        "        while not game_over:\n",
        "            # The agent performs an action\n",
        "            action = agent.act(state)\n",
        "\n",
        "            # Apply an action to the environment, get the next state, the reward\n",
        "            # and if the games end\n",
        "            prev_state = state\n",
        "            state, reward, game_over = env.act(action)\n",
        "\n",
        "            # Update the counters\n",
        "            if reward > 0:\n",
        "                win = win + reward\n",
        "            if reward < 0:\n",
        "                lose = lose -reward\n",
        "        \n",
        "        # Save as a mp4\n",
        "        env.draw(prefix+str(e))\n",
        "\n",
        "        # Update stats\n",
        "        score = score + win-lose\n",
        "\n",
        "        print(\"Win/lose count {}/{}. Average score ({})\"\n",
        "              .format(win, lose, score/(1+e)))\n",
        "    print('Final score: '+str(score/epochs))"
      ],
      "execution_count": 0,
      "outputs": []
    },
    {
      "cell_type": "code",
      "metadata": {
        "id": "qeecoWxWb9zx",
        "colab_type": "code",
        "colab": {
          "base_uri": "https://localhost:8080/",
          "height": 1000
        },
        "outputId": "5ca79ae6-8128-4583-833e-859439983fbe"
      },
      "source": [
        "# Initialize the game\n",
        "env = Environment(grid_size=size, max_time=T,temperature=temperature)\n",
        "\n",
        "# Initialize the agent!\n",
        "agent = RandomAgent()\n",
        "\n",
        "test(agent,env,epochs_test,prefix='random')\n",
        "HTML(display_videos('random0.mp4'))"
      ],
      "execution_count": 9,
      "outputs": [
        {
          "output_type": "stream",
          "text": [
            "Win/lose count 12.0/12.0. Average score (0.0)\n",
            "Win/lose count 11.5/9.0. Average score (1.25)\n",
            "Win/lose count 8.0/11.0. Average score (-0.16666666666666666)\n",
            "Win/lose count 7.5/11.0. Average score (-1.0)\n",
            "Win/lose count 7.5/20.0. Average score (-3.3)\n",
            "Win/lose count 8.5/16.0. Average score (-4.0)\n",
            "Win/lose count 9.5/15.0. Average score (-4.214285714285714)\n",
            "Win/lose count 10.0/11.0. Average score (-3.8125)\n",
            "Win/lose count 8.0/13.0. Average score (-3.9444444444444446)\n",
            "Win/lose count 14.5/22.0. Average score (-4.3)\n",
            "Win/lose count 8.5/24.0. Average score (-5.318181818181818)\n",
            "Win/lose count 11.0/14.0. Average score (-5.125)\n",
            "Win/lose count 6.5/12.0. Average score (-5.153846153846154)\n",
            "Win/lose count 9.0/10.0. Average score (-4.857142857142857)\n",
            "Win/lose count 6.5/11.0. Average score (-4.833333333333333)\n",
            "Win/lose count 4.5/9.0. Average score (-4.8125)\n",
            "Win/lose count 10.5/20.0. Average score (-5.088235294117647)\n",
            "Win/lose count 10.0/15.0. Average score (-5.083333333333333)\n",
            "Win/lose count 10.5/8.0. Average score (-4.684210526315789)\n",
            "Win/lose count 12.0/9.0. Average score (-4.3)\n",
            "Win/lose count 8.0/16.0. Average score (-4.476190476190476)\n",
            "Win/lose count 6.5/17.0. Average score (-4.75)\n",
            "Win/lose count 1.5/6.0. Average score (-4.739130434782608)\n",
            "Win/lose count 9.0/6.0. Average score (-4.416666666666667)\n",
            "Win/lose count 8.5/21.0. Average score (-4.74)\n",
            "Win/lose count 4.5/10.0. Average score (-4.769230769230769)\n",
            "Win/lose count 12.0/15.0. Average score (-4.703703703703703)\n",
            "Win/lose count 6.5/11.0. Average score (-4.696428571428571)\n",
            "Win/lose count 10.0/14.0. Average score (-4.672413793103448)\n",
            "Win/lose count 13.0/13.0. Average score (-4.516666666666667)\n",
            "Win/lose count 9.5/17.0. Average score (-4.612903225806452)\n",
            "Win/lose count 11.5/10.0. Average score (-4.421875)\n",
            "Win/lose count 10.0/11.0. Average score (-4.318181818181818)\n",
            "Win/lose count 8.5/7.0. Average score (-4.147058823529412)\n",
            "Win/lose count 7.5/12.0. Average score (-4.1571428571428575)\n",
            "Win/lose count 8.5/12.0. Average score (-4.138888888888889)\n",
            "Win/lose count 10.0/12.0. Average score (-4.081081081081081)\n",
            "Win/lose count 10.0/17.0. Average score (-4.157894736842105)\n",
            "Win/lose count 10.0/8.0. Average score (-4.0)\n",
            "Win/lose count 7.5/15.0. Average score (-4.0875)\n",
            "Win/lose count 7.5/15.0. Average score (-4.170731707317073)\n",
            "Win/lose count 10.0/15.0. Average score (-4.190476190476191)\n",
            "Win/lose count 6.5/14.0. Average score (-4.267441860465116)\n",
            "Win/lose count 11.0/9.0. Average score (-4.125)\n",
            "Win/lose count 11.0/11.0. Average score (-4.033333333333333)\n",
            "Win/lose count 6.0/14.0. Average score (-4.119565217391305)\n",
            "Win/lose count 8.5/7.0. Average score (-4.0)\n",
            "Win/lose count 6.5/13.0. Average score (-4.052083333333333)\n",
            "Win/lose count 10.5/12.0. Average score (-4.0)\n",
            "Win/lose count 8.0/16.0. Average score (-4.08)\n",
            "Final score: -4.08\n"
          ],
          "name": "stdout"
        },
        {
          "output_type": "execute_result",
          "data": {
            "text/html": [
              "<video alt=\"test\" controls>\n",
              "                <source src=\"data:video/mp4;base64,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\" type=\"video/mp4\" />\n",
              "             </video>"
            ],
            "text/plain": [
              "<IPython.core.display.HTML object>"
            ]
          },
          "metadata": {
            "tags": []
          },
          "execution_count": 9
        }
      ]
    },
    {
      "cell_type": "markdown",
      "metadata": {
        "id": "H1hILLPCb9z1",
        "colab_type": "text"
      },
      "source": [
        "***\n",
        "## DQN"
      ]
    },
    {
      "cell_type": "markdown",
      "metadata": {
        "id": "AC9sdptLb9z2",
        "colab_type": "text"
      },
      "source": [
        "Let us assume here that $T=\\infty$.\n",
        "\n",
        "***\n",
        "__Question 5__ Let $\\pi$ be a policy, show that:\n",
        "\n",
        "\\begin{equation*}\n",
        "Q^{\\pi}(s,a)=E_{(s',a')\\sim p(.|s,a)}[r(s,a)+\\gamma Q^{\\pi}(s',a')]\n",
        "\\end{equation*}\n",
        "\n",
        "Then, show that for the optimal policy $\\pi^*$ (we assume its existence), the following holds: \n",
        "\n",
        "\\begin{equation*}\n",
        "Q^{*}(s,a)=E_{s'\\sim \\pi^*(.|s,a)}[r(s,a)+\\gamma\\max_{a'}Q^{*}(s',a')].\n",
        "\\end{equation*}\n",
        "Finally, deduce that a plausible objective is:\n",
        "\n",
        "\\begin{equation*}\n",
        "\\mathcal{L}(\\theta)=E_{s' \\sim \\pi^*(.|s,a)}\\Vert r+\\gamma\\max\\max_{a'}Q(s',a',\\theta)-Q(s,a,\\theta)\\Vert^{2}.\n",
        "\\end{equation*}\n",
        "\n",
        "\n"
      ]
    },
    {
      "cell_type": "markdown",
      "metadata": {
        "id": "ynniGOG9b9z3",
        "colab_type": "text"
      },
      "source": [
        "1/We have\n",
        "\n",
        "$$ Q^{\\pi}(s,a) = E_{\\pi}[R_t |s_t = s, a_t = a] = E_\\pi[\\sum_{k=0}^{\\infty} \\gamma^k r_{t+k}|s_t = s, a_t = a] = \n",
        "E_\\pi[ r(s,a) + \\sum_{k=1}^{\\infty} \\gamma^k r_{t+k}|s_t = s, a_t = a]\n",
        "$$\n",
        "\n",
        "and with a changement of variable $j +1 = k$ we have : \n",
        "$$\n",
        "Q^{\\pi}(s,a) = E_\\pi[ r(s,a) + \\sum_{j=0}^{\\infty} \\gamma^{j+1} r_{t+j+1}|s_t = s, a_t = a] \\\\ = r(s,a) + \\gamma E_\\pi[ \\sum_{j=0}^{\\infty} \\gamma^{j} r_{t+j+1}|s_t = s, a_t = a]\n",
        "$$\n",
        "\n",
        "Thank to the propriety : $\\mathbb E[X]=\\mathbb E[\\mathbb E[X|Y]]$, we have\n",
        "\n",
        "$$\n",
        "Q^{\\pi}(s,a) = r(s,a) + \\gamma  E_\\pi[ E_\\pi[ (\\sum_{j=0}^{\\infty} \\gamma^{j} r_{t+j+1}|s_t = s, a_t = a)|s_{t+1} = s', a_{t+1} = a']] \n",
        "$$\n",
        "$$\n",
        "Q^{\\pi}(s,a) = 1.r(s,a) + \\gamma \\sum_{(s',a')}p(s_{t+1}=s',a_{t+1}=a' |s_t = s, a_t = a )[E[\\sum_{j=0}^{\\infty}\\gamma^j r_{(t+1)+j}|s_{t+1}=s',a_{t+1}=a']\\\\\n",
        "$$\n",
        "\n",
        "and because \n",
        "$$\n",
        "\\sum_{(s',a')}p(s_{t+1}=s',a_{t+1}=a' |s_t = s, a_t = a ) = 1\n",
        "$$\n",
        "Then : \n",
        "\n",
        "$$\n",
        "Q^{\\pi}(s,a) = \\sum_{(s',a')}p(s_{t+1}=s',a_{t+1}=a' |s_t = s, a_t = a ) [r(s,a) + \\gamma E[\\sum_{j=0}^{\\infty}\\gamma^j r_{(t+1)+j}|s_{t+1}=s',a_{t+1}=a']]\\\\\n",
        "= \\sum_{(s',a')}p(s_{t+1}=s',a_{t+1}=a' |s_t = s, a_t = a ) [r(s,a) + \\gamma Q^{\\pi}(s',a')]\n",
        "= E_{(s',a')\\sim p(.|s,a)}[r(s,a)+\\gamma Q^{\\pi}(s',a')]\n",
        "$$\n",
        "\n"
      ]
    },
    {
      "cell_type": "markdown",
      "metadata": {
        "id": "cHSa0p5T_vKW",
        "colab_type": "text"
      },
      "source": [
        "2/ We have: \n",
        "$$\n",
        "\\begin{equation} \n",
        "Q^*(s,a) = \\max_{\\pi} Q^{\\pi}(s, a) \n",
        "\\end{equation}\n",
        "$$\n",
        "so with\n",
        "\n",
        "$$\\begin{align*} \n",
        "Q^{\\pi}(s,a)=E_{(s',a')\\sim p(.|s,a)}[r(s,a)+\\gamma Q^{\\pi}(s',a')] \\end{align*}$$\n",
        "\n",
        "we get\n",
        "$$\\begin{align*} Q^*(s,a) & = E_{(s',a')\\sim \\pi^*(.|s,a)}[r(s,a)+\\gamma \\max_{\\pi} Q^{\\pi}(s',a')] \\\\ & = E_{(s',a')\\sim \\pi^*(.|s,a)}[r(s,a)+\\gamma Q^*(s',a')] \\end{align*}$$\n",
        "\n",
        "and by defination of policy we have $s' \\sim \\pi^*(.|s,a)$ and so\n",
        "\n",
        "$$\\begin{align*} \n",
        "Q^*(s,a) = \\max_{\\pi} Q^{\\pi}(s,a) = E_{s' \\sim \\pi^*(.|s,a)}[r(s,a)+\\gamma \\max_{a'} Q^{*}(s',a')] \n",
        "\\end{align*}$$"
      ]
    },
    {
      "cell_type": "markdown",
      "metadata": {
        "id": "E6JVa1Ln_2LS",
        "colab_type": "text"
      },
      "source": [
        "3/If we want to approximate $Q^*(s,a)$ we should define the loss as :\n",
        "\n",
        "$$\\begin{align*} \n",
        "L_i(\\theta_i) = E_{s' \\sim \\pi^*(.|s,a)}[\\Vert Q^*(s,a)- Q(s, a; \\theta_i)\\Vert^2] \n",
        "\\end{align*}$$\n",
        "\n",
        "and thanks to last answer, we have : \n",
        "\n",
        "$$\\begin{align*} \n",
        "Q^*(s,a) = E_{s' \\sim \\pi^*(.|s,a)}[r(s,a)+\\gamma \\max_{a'} Q^{*}(s',a')] \n",
        "\\end{align*}$$\n",
        "\n",
        "Finally we have: \n",
        "\n",
        "\\begin{align} \\mathcal{L}(\\theta)=E_{s' \\sim \\pi^(.|s,a)}[\\Vert( r(s,a)+\\gamma\\max_{a'}Q(s',a',\\theta{i-1})-Q(s,a,\\theta_i))\\Vert^2] \\end{align}"
      ]
    },
    {
      "cell_type": "markdown",
      "metadata": {
        "id": "LCnNCGh8b9z4",
        "colab_type": "text"
      },
      "source": [
        "***\n",
        "The DQN-learning algorithm relies on these derivations to train the parameters $\\theta$ of a Deep Neural Network:\n",
        "\n",
        "1. At the state $s_t$, select the action $a_t$ with best reward using $Q_t$ and store the results;\n",
        "\n",
        "2. Obtain the new state $s_{t+1}$ from the environment $p$;\n",
        "\n",
        "3. Store $(s_t,a_t,s_{t+1})$;\n",
        "\n",
        "4. Obtain $Q_{t+1}$ by minimizing  $\\mathcal{L}$ from a recovered batch from the previously stored results.\n",
        "\n",
        "***\n",
        "__Question 6__ Implement the class ```Memory``` that stores moves (in a replay buffer) via ```remember``` and provides a ```random_access``` to these. Specify a maximum memory size to avoid side effects. You can for example use a ```list()``` and set by default ```max_memory=100```."
      ]
    },
    {
      "cell_type": "code",
      "metadata": {
        "id": "MYHW0ITIb9z4",
        "colab_type": "code",
        "colab": {}
      },
      "source": [
        "class Memory(object):\n",
        "    def __init__(self, max_memory=100):\n",
        "        self.max_memory = max_memory\n",
        "        self.memory = list()\n",
        "\n",
        "    def remember(self, m):\n",
        "        if len(self.memory)<self.max_memory:\n",
        "            self.memory.append(m)\n",
        "            \n",
        "    def random_access(self):\n",
        "        tirage = np.random.randint(0, len(self.memory))\n",
        "        return self.memory[tirage]"
      ],
      "execution_count": 0,
      "outputs": []
    },
    {
      "cell_type": "markdown",
      "metadata": {
        "id": "21a0PAprb9z8",
        "colab_type": "text"
      },
      "source": [
        "***\n",
        "The pipeline we will use for training is given below:"
      ]
    },
    {
      "cell_type": "code",
      "metadata": {
        "id": "FA_lefghb9z9",
        "colab_type": "code",
        "colab": {}
      },
      "source": [
        "def train(agent,env,epoch,prefix=''):\n",
        "    # Number of won games\n",
        "    score = 0\n",
        "    loss = 0\n",
        "\n",
        "    for e in range(epoch):\n",
        "        # At each epoch, we restart to a fresh game and get the initial state\n",
        "        state = env.reset()\n",
        "        # This assumes that the games will terminate\n",
        "        game_over = False\n",
        "\n",
        "        win = 0\n",
        "        lose = 0\n",
        "\n",
        "        while not game_over:\n",
        "            # The agent performs an action\n",
        "            action = agent.act(state)\n",
        "\n",
        "            # Apply an action to the environment, get the next state, the reward\n",
        "            # and if the games end\n",
        "            prev_state = state\n",
        "            state, reward, game_over = env.act(action)\n",
        "\n",
        "            # Update the counters\n",
        "            if reward > 0:\n",
        "                win = win + reward\n",
        "            if reward < 0:\n",
        "                lose = lose -reward\n",
        "\n",
        "            # Apply the reinforcement strategy\n",
        "            loss = agent.reinforce(prev_state, state,  action, reward, game_over)\n",
        "\n",
        "        # Save as a mp4\n",
        "        if e % 10 == 0:\n",
        "            env.draw(prefix+str(e))\n",
        "\n",
        "        # Update stats\n",
        "        score += win-lose\n",
        "\n",
        "        print(\"Epoch {:03d}/{:03d} | Loss {:.4f} | Win/lose count {}/{} ({})\"\n",
        "              .format(e, epoch, loss, win, lose, win-lose))\n",
        "        agent.save(name_weights=prefix+'model.h5',name_model=prefix+'model.json')"
      ],
      "execution_count": 0,
      "outputs": []
    },
    {
      "cell_type": "markdown",
      "metadata": {
        "id": "dxoOKP_1b90A",
        "colab_type": "text"
      },
      "source": [
        "***\n",
        "__Question 7__ Implement the DQN training algorithm using a cascade of fully connected layers. You can use different learning rate, batch size or memory size parameters. In particular, the loss might oscillate while the player will start to win the games. You have to find a good criterium."
      ]
    },
    {
      "cell_type": "code",
      "metadata": {
        "id": "MCVEauOSb90B",
        "colab_type": "code",
        "colab": {}
      },
      "source": [
        "class DQN(Agent):\n",
        "    def __init__(self, grid_size,  epsilon = 0.1, memory_size=100, batch_size = 16,n_state=2):\n",
        "        super(DQN, self).__init__(epsilon = epsilon)\n",
        "\n",
        "        # Discount for Q learning\n",
        "        self.discount = 0.99\n",
        "        \n",
        "        self.grid_size = grid_size\n",
        "        \n",
        "        # number of state\n",
        "        self.n_state = n_state\n",
        "\n",
        "        # Memory\n",
        "        self.memory = Memory(memory_size)\n",
        "        \n",
        "        # Batch size when learning\n",
        "        self.batch_size = batch_size\n",
        "\n",
        "    def learned_act(self, s):\n",
        "        return np.argmax(self.model.predict(s.reshape([1,s.shape[0],s.shape[1],s.shape[2]]))[0,:])\n",
        "\n",
        "    def reinforce(self, s_, n_s_, a_, r_, game_over_):\n",
        "        # Two steps: first memorize the states, second learn from the pool\n",
        "\n",
        "        self.memory.remember([s_, n_s_, a_, r_, game_over_])\n",
        "        \n",
        "        input_states = np.zeros((self.batch_size, 5,5,self.n_state))\n",
        "        target_q = np.zeros((self.batch_size, 4))\n",
        "        \n",
        "        for i in range(self.batch_size):\n",
        "          s_, n_s_, a_, r_, game_over_  = self.memory.random_access()\n",
        "          target_q[i] =self.model.predict(s_.reshape([1,s_.shape[0],s_.shape[1],s_.shape[2]]))[0]\n",
        "          input_states[i] = s_\n",
        "          \n",
        "          if game_over_:\n",
        "            target_q[i,a_] = r_\n",
        "          else:\n",
        "            q_est = self.model.predict(np.expand_dims(n_s_, 0))\n",
        "            target_q[i, a_] = r_ + self.discount * np.max(q_est)\n",
        "                \n",
        "        ######## FILL IN\n",
        "        # HINT: Clip the target to avoid exploiding gradients.. -- clipping is a bit tighter\n",
        "        target_q = np.clip(target_q, -3, 3)\n",
        "\n",
        "        l = self.model.train_on_batch(input_states, target_q)\n",
        "\n",
        "\n",
        "        return l\n",
        "\n",
        "    def save(self,name_weights='model.h5',name_model='model.json'):\n",
        "        self.model.save_weights(name_weights, overwrite=True)\n",
        "        with open(name_model, \"w\") as outfile:\n",
        "            json.dump(self.model.to_json(), outfile)\n",
        "            \n",
        "    def load(self,name_weights='model.h5',name_model='model.json'):\n",
        "        with open(name_model, \"r\") as jfile:\n",
        "            model = model_from_json(json.load(jfile))\n",
        "        model.load_weights(name_weights)\n",
        "        model.compile(\"sgd\", \"mse\")\n",
        "        self.model = model\n",
        "\n",
        "            \n",
        "class DQN_FC(DQN):\n",
        "    def __init__(self, *args, lr=0.1,**kwargs):\n",
        "        super(DQN_FC, self).__init__( *args,**kwargs)\n",
        "        model = Sequential()\n",
        "        model.add(Flatten(input_shape=(5,5,self.n_state,)))\n",
        "        model.add(Dense(32,activation ='relu')) \n",
        "        model.add(Dense(4))\n",
        "        model.compile(sgd(lr=lr, decay=1e-4, momentum=0.0), \"mse\")\n",
        "        self.model = model\n",
        "        "
      ],
      "execution_count": 0,
      "outputs": []
    },
    {
      "cell_type": "code",
      "metadata": {
        "id": "98hhTEXob90M",
        "colab_type": "code",
        "colab": {
          "base_uri": "https://localhost:8080/",
          "height": 1000
        },
        "outputId": "6e47671e-4b36-4a61-dffa-fed3e2df367e"
      },
      "source": [
        "env = Environment(grid_size=size, max_time=T, temperature=0.3)\n",
        "agent = DQN_FC(size, lr=.1, epsilon = 0.1, memory_size=2000, batch_size = 32)\n",
        "train(agent, env, epochs_train, prefix='fc_train')\n",
        "HTML(display_videos('fc_train10.mp4'))"
      ],
      "execution_count": 18,
      "outputs": [
        {
          "output_type": "stream",
          "text": [
            "Epoch 000/100 | Loss 0.0003 | Win/lose count 1.0/4.0 (-3.0)\n",
            "Epoch 001/100 | Loss 0.0026 | Win/lose count 4.0/3.0 (1.0)\n",
            "Epoch 002/100 | Loss 0.0557 | Win/lose count 2.5/4.0 (-1.5)\n",
            "Epoch 003/100 | Loss 0.0184 | Win/lose count 4.0/3.0 (1.0)\n",
            "Epoch 004/100 | Loss 0.0077 | Win/lose count 1.0/2.0 (-1.0)\n",
            "Epoch 005/100 | Loss 0.0102 | Win/lose count 3.0/4.0 (-1.0)\n",
            "Epoch 006/100 | Loss 0.0562 | Win/lose count 3.5/5.0 (-1.5)\n",
            "Epoch 007/100 | Loss 0.0118 | Win/lose count 2.5/5.0 (-2.5)\n",
            "Epoch 008/100 | Loss 0.0080 | Win/lose count 2.5/5.0 (-2.5)\n",
            "Epoch 009/100 | Loss 0.0147 | Win/lose count 3.0/4.0 (-1.0)\n",
            "Epoch 010/100 | Loss 0.0094 | Win/lose count 2.0/3.0 (-1.0)\n",
            "Epoch 011/100 | Loss 0.0043 | Win/lose count 1.5/4.0 (-2.5)\n",
            "Epoch 012/100 | Loss 0.0133 | Win/lose count 2.5/3.0 (-0.5)\n",
            "Epoch 013/100 | Loss 0.0035 | Win/lose count 3.5/9.0 (-5.5)\n",
            "Epoch 014/100 | Loss 0.0618 | Win/lose count 1.5/3.0 (-1.5)\n",
            "Epoch 015/100 | Loss 0.0358 | Win/lose count 4.0/4.0 (0.0)\n",
            "Epoch 016/100 | Loss 0.0041 | Win/lose count 4.5/1.0 (3.5)\n",
            "Epoch 017/100 | Loss 0.0030 | Win/lose count 1.0/4.0 (-3.0)\n",
            "Epoch 018/100 | Loss 0.0069 | Win/lose count 3.0/7.0 (-4.0)\n",
            "Epoch 019/100 | Loss 0.0053 | Win/lose count 7.0/4.0 (3.0)\n",
            "Epoch 020/100 | Loss 0.0043 | Win/lose count 4.5/4.0 (0.5)\n",
            "Epoch 021/100 | Loss 0.0040 | Win/lose count 3.0/2.0 (1.0)\n",
            "Epoch 022/100 | Loss 0.0078 | Win/lose count 4.5/2.0 (2.5)\n",
            "Epoch 023/100 | Loss 0.0045 | Win/lose count 6.0/3.0 (3.0)\n",
            "Epoch 024/100 | Loss 0.1022 | Win/lose count 4.5/8.0 (-3.5)\n",
            "Epoch 025/100 | Loss 0.0045 | Win/lose count 3.0/4.0 (-1.0)\n",
            "Epoch 026/100 | Loss 0.0025 | Win/lose count 5.0/1.0 (4.0)\n",
            "Epoch 027/100 | Loss 0.0015 | Win/lose count 3.5/6.0 (-2.5)\n",
            "Epoch 028/100 | Loss 0.0531 | Win/lose count 0.5/3.0 (-2.5)\n",
            "Epoch 029/100 | Loss 0.0099 | Win/lose count 7.5/4.0 (3.5)\n",
            "Epoch 030/100 | Loss 0.0012 | Win/lose count 6.5/2.0 (4.5)\n",
            "Epoch 031/100 | Loss 0.0011 | Win/lose count 6.5/4.0 (2.5)\n",
            "Epoch 032/100 | Loss 0.0034 | Win/lose count 3.5/4.0 (-0.5)\n",
            "Epoch 033/100 | Loss 0.0025 | Win/lose count 6.0/3.0 (3.0)\n",
            "Epoch 034/100 | Loss 0.0027 | Win/lose count 2.0/2.0 (0.0)\n",
            "Epoch 035/100 | Loss 0.0014 | Win/lose count 2.0/5.0 (-3.0)\n",
            "Epoch 036/100 | Loss 0.0403 | Win/lose count 3.0/1.0 (2.0)\n",
            "Epoch 037/100 | Loss 0.0033 | Win/lose count 3.5/2.0 (1.5)\n",
            "Epoch 038/100 | Loss 0.0114 | Win/lose count 2.5/5.0 (-2.5)\n",
            "Epoch 039/100 | Loss 0.0013 | Win/lose count 2.5/3.0 (-0.5)\n",
            "Epoch 040/100 | Loss 0.0019 | Win/lose count 3.5/1.0 (2.5)\n",
            "Epoch 041/100 | Loss 0.0011 | Win/lose count 2.5/3.0 (-0.5)\n",
            "Epoch 042/100 | Loss 0.0022 | Win/lose count 5.0/3.0 (2.0)\n",
            "Epoch 043/100 | Loss 0.0041 | Win/lose count 3.5/1.0 (2.5)\n",
            "Epoch 044/100 | Loss 0.0020 | Win/lose count 1.5/1.0 (0.5)\n",
            "Epoch 045/100 | Loss 0.0045 | Win/lose count 2.0/0 (2.0)\n",
            "Epoch 046/100 | Loss 0.0008 | Win/lose count 2.0/3.0 (-1.0)\n",
            "Epoch 047/100 | Loss 0.0032 | Win/lose count 4.5/2.0 (2.5)\n",
            "Epoch 048/100 | Loss 0.0037 | Win/lose count 4.0/4.0 (0.0)\n",
            "Epoch 049/100 | Loss 0.0024 | Win/lose count 0.5/3.0 (-2.5)\n",
            "Epoch 050/100 | Loss 0.0012 | Win/lose count 0/2.0 (-2.0)\n",
            "Epoch 051/100 | Loss 0.0156 | Win/lose count 5.5/3.0 (2.5)\n",
            "Epoch 052/100 | Loss 0.0027 | Win/lose count 3.5/5.0 (-1.5)\n",
            "Epoch 053/100 | Loss 0.0010 | Win/lose count 9.0/0 (9.0)\n",
            "Epoch 054/100 | Loss 0.0019 | Win/lose count 4.0/2.0 (2.0)\n",
            "Epoch 055/100 | Loss 0.0013 | Win/lose count 4.0/5.0 (-1.0)\n",
            "Epoch 056/100 | Loss 0.0027 | Win/lose count 8.5/2.0 (6.5)\n",
            "Epoch 057/100 | Loss 0.0020 | Win/lose count 3.5/3.0 (0.5)\n",
            "Epoch 058/100 | Loss 0.0027 | Win/lose count 3.5/2.0 (1.5)\n",
            "Epoch 059/100 | Loss 0.0026 | Win/lose count 3.0/2.0 (1.0)\n",
            "Epoch 060/100 | Loss 0.0015 | Win/lose count 8.0/3.0 (5.0)\n",
            "Epoch 061/100 | Loss 0.0019 | Win/lose count 3.0/3.0 (0.0)\n",
            "Epoch 062/100 | Loss 0.0021 | Win/lose count 1.0/3.0 (-2.0)\n",
            "Epoch 063/100 | Loss 0.0028 | Win/lose count 3.5/4.0 (-0.5)\n",
            "Epoch 064/100 | Loss 0.0015 | Win/lose count 4.5/2.0 (2.5)\n",
            "Epoch 065/100 | Loss 0.0043 | Win/lose count 2.0/3.0 (-1.0)\n",
            "Epoch 066/100 | Loss 0.0028 | Win/lose count 3.5/2.0 (1.5)\n",
            "Epoch 067/100 | Loss 0.0092 | Win/lose count 2.5/8.0 (-5.5)\n",
            "Epoch 068/100 | Loss 0.0032 | Win/lose count 3.5/4.0 (-0.5)\n",
            "Epoch 069/100 | Loss 0.0051 | Win/lose count 5.5/3.0 (2.5)\n",
            "Epoch 070/100 | Loss 0.0042 | Win/lose count 0.5/1.0 (-0.5)\n",
            "Epoch 071/100 | Loss 0.0019 | Win/lose count 2.0/1.0 (1.0)\n",
            "Epoch 072/100 | Loss 0.0066 | Win/lose count 6.0/3.0 (3.0)\n",
            "Epoch 073/100 | Loss 0.0038 | Win/lose count 1.5/1.0 (0.5)\n",
            "Epoch 074/100 | Loss 0.0009 | Win/lose count 6.0/2.0 (4.0)\n",
            "Epoch 075/100 | Loss 0.0015 | Win/lose count 6.0/6.0 (0.0)\n",
            "Epoch 076/100 | Loss 0.0108 | Win/lose count 4.5/5.0 (-0.5)\n",
            "Epoch 077/100 | Loss 0.0032 | Win/lose count 4.5/2.0 (2.5)\n",
            "Epoch 078/100 | Loss 0.0020 | Win/lose count 3.0/3.0 (0.0)\n",
            "Epoch 079/100 | Loss 0.0429 | Win/lose count 3.0/4.0 (-1.0)\n",
            "Epoch 080/100 | Loss 0.0042 | Win/lose count 5.5/2.0 (3.5)\n",
            "Epoch 081/100 | Loss 0.0005 | Win/lose count 3.0/2.0 (1.0)\n",
            "Epoch 082/100 | Loss 0.0013 | Win/lose count 5.0/5.0 (0.0)\n",
            "Epoch 083/100 | Loss 0.0019 | Win/lose count 2.0/3.0 (-1.0)\n",
            "Epoch 084/100 | Loss 0.0013 | Win/lose count 6.0/1.0 (5.0)\n",
            "Epoch 085/100 | Loss 0.0469 | Win/lose count 4.5/3.0 (1.5)\n",
            "Epoch 086/100 | Loss 0.0009 | Win/lose count 3.5/4.0 (-0.5)\n",
            "Epoch 087/100 | Loss 0.0548 | Win/lose count 5.5/2.0 (3.5)\n",
            "Epoch 088/100 | Loss 0.0031 | Win/lose count 4.5/0 (4.5)\n",
            "Epoch 089/100 | Loss 0.0006 | Win/lose count 2.0/1.0 (1.0)\n",
            "Epoch 090/100 | Loss 0.0625 | Win/lose count 2.5/3.0 (-0.5)\n",
            "Epoch 091/100 | Loss 0.0020 | Win/lose count 5.0/4.0 (1.0)\n",
            "Epoch 092/100 | Loss 0.0030 | Win/lose count 3.5/3.0 (0.5)\n",
            "Epoch 093/100 | Loss 0.0432 | Win/lose count 2.5/0 (2.5)\n",
            "Epoch 094/100 | Loss 0.0008 | Win/lose count 4.5/2.0 (2.5)\n",
            "Epoch 095/100 | Loss 0.0021 | Win/lose count 1.5/1.0 (0.5)\n",
            "Epoch 096/100 | Loss 0.0016 | Win/lose count 1.5/1.0 (0.5)\n",
            "Epoch 097/100 | Loss 0.0024 | Win/lose count 3.5/1.0 (2.5)\n",
            "Epoch 098/100 | Loss 0.0009 | Win/lose count 5.0/6.0 (-1.0)\n",
            "Epoch 099/100 | Loss 0.0261 | Win/lose count 1.5/1.0 (0.5)\n"
          ],
          "name": "stdout"
        },
        {
          "output_type": "execute_result",
          "data": {
            "text/html": [
              "<video alt=\"test\" controls>\n",
              "                <source src=\"data:video/mp4;base64,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\" type=\"video/mp4\" />\n",
              "             </video>"
            ],
            "text/plain": [
              "<IPython.core.display.HTML object>"
            ]
          },
          "metadata": {
            "tags": []
          },
          "execution_count": 18
        }
      ]
    },
    {
      "cell_type": "markdown",
      "metadata": {
        "id": "xRlmqP5Rb90T",
        "colab_type": "text"
      },
      "source": [
        "***\n",
        "***\n",
        "__Question 8__ Implement the DQN training algorithm using a CNN (for example, 2 convolutional layers and one final fully connected layer)."
      ]
    },
    {
      "cell_type": "code",
      "metadata": {
        "id": "4hkYS3HPb90W",
        "colab_type": "code",
        "colab": {}
      },
      "source": [
        "class DQN_CNN(DQN):\n",
        "    def __init__(self, *args,lr=0.1,**kwargs):\n",
        "        super(DQN_CNN, self).__init__(*args,**kwargs)\n",
        "        \n",
        "        model=Sequential()\n",
        "        model.add(Conv2D(32,(2,2),input_shape=(5,5,self.n_state,),activation='relu'))\n",
        "        model.add(Conv2D(64,(2,2),activation='relu'))\n",
        "        model.add(Flatten())\n",
        "        model.add(Dense(4))\n",
        "        \n",
        "        model.compile(sgd(lr=lr, decay=1e-4, momentum=0.0), \"mse\")\n",
        "        self.model = model"
      ],
      "execution_count": 0,
      "outputs": []
    },
    {
      "cell_type": "code",
      "metadata": {
        "id": "lNEdM71pb90a",
        "colab_type": "code",
        "colab": {
          "base_uri": "https://localhost:8080/",
          "height": 1000
        },
        "outputId": "71fc0ec5-c070-4933-9a25-1a7c8ec3b37d"
      },
      "source": [
        "env = Environment(grid_size=size, max_time=T, temperature=0.3)\n",
        "agent = DQN_CNN(size, lr=.1, epsilon = 0.1, memory_size=2000, batch_size = 16)\n",
        "train(agent,env,epochs_train,prefix='cnn_train')\n",
        "HTML(display_videos('cnn_train10.mp4'))"
      ],
      "execution_count": 20,
      "outputs": [
        {
          "output_type": "stream",
          "text": [
            "Epoch 000/100 | Loss 0.0061 | Win/lose count 3.5/3.0 (0.5)\n",
            "Epoch 001/100 | Loss 0.0067 | Win/lose count 4.0/2.0 (2.0)\n",
            "Epoch 002/100 | Loss 0.1122 | Win/lose count 2.5/3.0 (-0.5)\n",
            "Epoch 003/100 | Loss 0.0067 | Win/lose count 2.5/4.0 (-1.5)\n",
            "Epoch 004/100 | Loss 0.0116 | Win/lose count 1.5/1.0 (0.5)\n",
            "Epoch 005/100 | Loss 0.0010 | Win/lose count 1.5/4.0 (-2.5)\n",
            "Epoch 006/100 | Loss 0.0024 | Win/lose count 4.0/1.0 (3.0)\n",
            "Epoch 007/100 | Loss 0.0106 | Win/lose count 3.5/5.0 (-1.5)\n",
            "Epoch 008/100 | Loss 0.0023 | Win/lose count 3.0/1.0 (2.0)\n",
            "Epoch 009/100 | Loss 0.0015 | Win/lose count 2.5/2.0 (0.5)\n",
            "Epoch 010/100 | Loss 0.0109 | Win/lose count 1.5/1.0 (0.5)\n",
            "Epoch 011/100 | Loss 0.0044 | Win/lose count 5.0/1.0 (4.0)\n",
            "Epoch 012/100 | Loss 0.0020 | Win/lose count 8.0/2.0 (6.0)\n",
            "Epoch 013/100 | Loss 0.0999 | Win/lose count 4.0/0 (4.0)\n",
            "Epoch 014/100 | Loss 0.0044 | Win/lose count 5.0/3.0 (2.0)\n",
            "Epoch 015/100 | Loss 0.0005 | Win/lose count 5.0/4.0 (1.0)\n",
            "Epoch 016/100 | Loss 0.0030 | Win/lose count 3.5/0 (3.5)\n",
            "Epoch 017/100 | Loss 0.0091 | Win/lose count 5.5/2.0 (3.5)\n",
            "Epoch 018/100 | Loss 0.0060 | Win/lose count 5.5/3.0 (2.5)\n",
            "Epoch 019/100 | Loss 0.0032 | Win/lose count 4.0/0 (4.0)\n",
            "Epoch 020/100 | Loss 0.0012 | Win/lose count 5.0/4.0 (1.0)\n",
            "Epoch 021/100 | Loss 0.0017 | Win/lose count 5.5/2.0 (3.5)\n",
            "Epoch 022/100 | Loss 0.0038 | Win/lose count 7.5/2.0 (5.5)\n",
            "Epoch 023/100 | Loss 0.0018 | Win/lose count 5.0/0 (5.0)\n",
            "Epoch 024/100 | Loss 0.0014 | Win/lose count 7.0/1.0 (6.0)\n",
            "Epoch 025/100 | Loss 0.0006 | Win/lose count 6.5/2.0 (4.5)\n",
            "Epoch 026/100 | Loss 0.0022 | Win/lose count 6.0/2.0 (4.0)\n",
            "Epoch 027/100 | Loss 0.0028 | Win/lose count 3.0/1.0 (2.0)\n",
            "Epoch 028/100 | Loss 0.0041 | Win/lose count 6.0/1.0 (5.0)\n",
            "Epoch 029/100 | Loss 0.0010 | Win/lose count 6.5/0 (6.5)\n",
            "Epoch 030/100 | Loss 0.0006 | Win/lose count 9.0/1.0 (8.0)\n",
            "Epoch 031/100 | Loss 0.0010 | Win/lose count 5.5/3.0 (2.5)\n",
            "Epoch 032/100 | Loss 0.0002 | Win/lose count 7.0/2.0 (5.0)\n",
            "Epoch 033/100 | Loss 0.0011 | Win/lose count 5.5/0 (5.5)\n",
            "Epoch 034/100 | Loss 0.0007 | Win/lose count 8.0/2.0 (6.0)\n",
            "Epoch 035/100 | Loss 0.0030 | Win/lose count 13.0/2.0 (11.0)\n",
            "Epoch 036/100 | Loss 0.0075 | Win/lose count 5.5/4.0 (1.5)\n",
            "Epoch 037/100 | Loss 0.0019 | Win/lose count 8.0/1.0 (7.0)\n",
            "Epoch 038/100 | Loss 0.0019 | Win/lose count 8.5/0 (8.5)\n",
            "Epoch 039/100 | Loss 0.0053 | Win/lose count 3.0/4.0 (-1.0)\n",
            "Epoch 040/100 | Loss 0.0006 | Win/lose count 6.0/5.0 (1.0)\n",
            "Epoch 041/100 | Loss 0.0004 | Win/lose count 7.0/2.0 (5.0)\n",
            "Epoch 042/100 | Loss 0.0005 | Win/lose count 8.0/1.0 (7.0)\n",
            "Epoch 043/100 | Loss 0.0006 | Win/lose count 10.5/1.0 (9.5)\n",
            "Epoch 044/100 | Loss 0.0022 | Win/lose count 9.5/0 (9.5)\n",
            "Epoch 045/100 | Loss 0.0005 | Win/lose count 10.5/1.0 (9.5)\n",
            "Epoch 046/100 | Loss 0.0065 | Win/lose count 2.0/3.0 (-1.0)\n",
            "Epoch 047/100 | Loss 0.0018 | Win/lose count 9.5/1.0 (8.5)\n",
            "Epoch 048/100 | Loss 0.1115 | Win/lose count 4.5/0 (4.5)\n",
            "Epoch 049/100 | Loss 0.0013 | Win/lose count 2.0/5.0 (-3.0)\n",
            "Epoch 050/100 | Loss 0.0009 | Win/lose count 4.5/4.0 (0.5)\n",
            "Epoch 051/100 | Loss 0.0006 | Win/lose count 4.5/1.0 (3.5)\n",
            "Epoch 052/100 | Loss 0.0015 | Win/lose count 9.5/0 (9.5)\n",
            "Epoch 053/100 | Loss 0.0009 | Win/lose count 5.0/2.0 (3.0)\n",
            "Epoch 054/100 | Loss 0.0029 | Win/lose count 5.5/1.0 (4.5)\n",
            "Epoch 055/100 | Loss 0.0005 | Win/lose count 5.0/2.0 (3.0)\n",
            "Epoch 056/100 | Loss 0.0005 | Win/lose count 9.5/2.0 (7.5)\n",
            "Epoch 057/100 | Loss 0.0006 | Win/lose count 15.0/5.0 (10.0)\n",
            "Epoch 058/100 | Loss 0.0016 | Win/lose count 3.5/1.0 (2.5)\n",
            "Epoch 059/100 | Loss 0.0022 | Win/lose count 5.5/5.0 (0.5)\n",
            "Epoch 060/100 | Loss 0.0016 | Win/lose count 5.0/2.0 (3.0)\n",
            "Epoch 061/100 | Loss 0.0015 | Win/lose count 6.5/2.0 (4.5)\n",
            "Epoch 062/100 | Loss 0.0002 | Win/lose count 2.0/5.0 (-3.0)\n",
            "Epoch 063/100 | Loss 0.0018 | Win/lose count 7.0/2.0 (5.0)\n",
            "Epoch 064/100 | Loss 0.0004 | Win/lose count 4.5/0 (4.5)\n",
            "Epoch 065/100 | Loss 0.0039 | Win/lose count 6.0/1.0 (5.0)\n",
            "Epoch 066/100 | Loss 0.0078 | Win/lose count 6.0/3.0 (3.0)\n",
            "Epoch 067/100 | Loss 0.0007 | Win/lose count 6.0/1.0 (5.0)\n",
            "Epoch 068/100 | Loss 0.0007 | Win/lose count 3.5/2.0 (1.5)\n",
            "Epoch 069/100 | Loss 0.0014 | Win/lose count 3.0/2.0 (1.0)\n",
            "Epoch 070/100 | Loss 0.0020 | Win/lose count 4.5/1.0 (3.5)\n",
            "Epoch 071/100 | Loss 0.0008 | Win/lose count 7.0/2.0 (5.0)\n",
            "Epoch 072/100 | Loss 0.0007 | Win/lose count 7.0/1.0 (6.0)\n",
            "Epoch 073/100 | Loss 0.0024 | Win/lose count 4.5/4.0 (0.5)\n",
            "Epoch 074/100 | Loss 0.0006 | Win/lose count 9.5/3.0 (6.5)\n",
            "Epoch 075/100 | Loss 0.0004 | Win/lose count 4.5/3.0 (1.5)\n",
            "Epoch 076/100 | Loss 0.0025 | Win/lose count 2.5/1.0 (1.5)\n",
            "Epoch 077/100 | Loss 0.0006 | Win/lose count 7.0/1.0 (6.0)\n",
            "Epoch 078/100 | Loss 0.0034 | Win/lose count 0/2.0 (-2.0)\n",
            "Epoch 079/100 | Loss 0.0004 | Win/lose count 4.0/0 (4.0)\n",
            "Epoch 080/100 | Loss 0.1231 | Win/lose count 3.5/1.0 (2.5)\n",
            "Epoch 081/100 | Loss 0.0011 | Win/lose count 9.5/3.0 (6.5)\n",
            "Epoch 082/100 | Loss 0.0011 | Win/lose count 10.0/1.0 (9.0)\n",
            "Epoch 083/100 | Loss 0.0011 | Win/lose count 5.0/3.0 (2.0)\n",
            "Epoch 084/100 | Loss 0.0005 | Win/lose count 1.0/1.0 (0.0)\n",
            "Epoch 085/100 | Loss 0.0021 | Win/lose count 5.0/2.0 (3.0)\n",
            "Epoch 086/100 | Loss 0.0074 | Win/lose count 4.0/1.0 (3.0)\n",
            "Epoch 087/100 | Loss 0.0005 | Win/lose count 2.0/3.0 (-1.0)\n",
            "Epoch 088/100 | Loss 0.0013 | Win/lose count 4.0/2.0 (2.0)\n",
            "Epoch 089/100 | Loss 0.0017 | Win/lose count 6.0/1.0 (5.0)\n",
            "Epoch 090/100 | Loss 0.0936 | Win/lose count 6.5/2.0 (4.5)\n",
            "Epoch 091/100 | Loss 0.0016 | Win/lose count 4.5/1.0 (3.5)\n",
            "Epoch 092/100 | Loss 0.0011 | Win/lose count 5.5/2.0 (3.5)\n",
            "Epoch 093/100 | Loss 0.0014 | Win/lose count 1.5/0 (1.5)\n",
            "Epoch 094/100 | Loss 0.0048 | Win/lose count 10.0/0 (10.0)\n",
            "Epoch 095/100 | Loss 0.0007 | Win/lose count 5.5/3.0 (2.5)\n",
            "Epoch 096/100 | Loss 0.0006 | Win/lose count 5.0/1.0 (4.0)\n",
            "Epoch 097/100 | Loss 0.0107 | Win/lose count 3.5/1.0 (2.5)\n",
            "Epoch 098/100 | Loss 0.0011 | Win/lose count 7.5/3.0 (4.5)\n",
            "Epoch 099/100 | Loss 0.0009 | Win/lose count 8.0/4.0 (4.0)\n"
          ],
          "name": "stdout"
        },
        {
          "output_type": "execute_result",
          "data": {
            "text/html": [
              "<video alt=\"test\" controls>\n",
              "                <source src=\"data:video/mp4;base64,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\" type=\"video/mp4\" />\n",
              "             </video>"
            ],
            "text/plain": [
              "<IPython.core.display.HTML object>"
            ]
          },
          "metadata": {
            "tags": []
          },
          "execution_count": 20
        }
      ]
    },
    {
      "cell_type": "markdown",
      "metadata": {
        "id": "swTQciT3b90d",
        "colab_type": "text"
      },
      "source": [
        "***\n",
        "***\n",
        "__Question 9__ Test both algorithms and compare their performances. Which issue(s) do you observe? Observe also different behaviors by changing the temperature."
      ]
    },
    {
      "cell_type": "code",
      "metadata": {
        "id": "KfnHE9TYb90e",
        "colab_type": "code",
        "colab": {
          "base_uri": "https://localhost:8080/",
          "height": 1000
        },
        "outputId": "393333ff-cc8b-4faf-98ca-3125549cabdd"
      },
      "source": [
        "env = Environment(grid_size=size, max_time=T,temperature=0.8)\n",
        "agent_cnn = DQN_CNN(size, lr=.1, epsilon = 0.1, memory_size=2000, batch_size = 32)\n",
        "agent_cnn.load(name_weights='cnn_trainmodel.h5',name_model='cnn_trainmodel.json')\n",
        "\n",
        "agent_fc = DQN_FC(size, lr=.1, epsilon = 0.1, memory_size=2000, batch_size = 32)\n",
        "agent_cnn.load(name_weights='fc_trainmodel.h5',name_model='fc_trainmodel.json')\n",
        "print('Test of the CNN')\n",
        "test(agent_cnn,env,epochs_test,prefix='cnn_test')\n",
        "print('Test of the FC')\n",
        "test(agent_fc,env,epochs_test,prefix='fc_test')"
      ],
      "execution_count": 21,
      "outputs": [
        {
          "output_type": "stream",
          "text": [
            "Test of the CNN\n",
            "Win/lose count 11.0/2.0. Average score (9.0)\n",
            "Win/lose count 6.5/3.0. Average score (6.25)\n",
            "Win/lose count 10.5/3.0. Average score (6.666666666666667)\n",
            "Win/lose count 8.5/3.0. Average score (6.375)\n",
            "Win/lose count 9.5/1.0. Average score (6.8)\n",
            "Win/lose count 13.0/1.0. Average score (7.666666666666667)\n",
            "Win/lose count 12.0/1.0. Average score (8.142857142857142)\n",
            "Win/lose count 14.0/3.0. Average score (8.5)\n",
            "Win/lose count 4.0/2.0. Average score (7.777777777777778)\n",
            "Win/lose count 12.5/3.0. Average score (7.95)\n",
            "Win/lose count 5.5/0. Average score (7.7272727272727275)\n",
            "Win/lose count 6.0/0. Average score (7.583333333333333)\n",
            "Win/lose count 6.5/4.0. Average score (7.1923076923076925)\n",
            "Win/lose count 4.5/2.0. Average score (6.857142857142857)\n",
            "Win/lose count 14.0/0. Average score (7.333333333333333)\n",
            "Win/lose count 14.5/3.0. Average score (7.59375)\n",
            "Win/lose count 17.5/0. Average score (8.176470588235293)\n",
            "Win/lose count 15.0/2.0. Average score (8.444444444444445)\n",
            "Win/lose count 13.5/3.0. Average score (8.552631578947368)\n",
            "Win/lose count 9.5/0. Average score (8.6)\n",
            "Win/lose count 11.5/2.0. Average score (8.642857142857142)\n",
            "Win/lose count 8.0/1.0. Average score (8.568181818181818)\n",
            "Win/lose count 9.0/3.0. Average score (8.456521739130435)\n",
            "Win/lose count 5.5/2.0. Average score (8.25)\n",
            "Win/lose count 11.0/0. Average score (8.36)\n",
            "Win/lose count 9.0/0. Average score (8.384615384615385)\n",
            "Win/lose count 10.5/2.0. Average score (8.38888888888889)\n",
            "Win/lose count 9.0/4.0. Average score (8.267857142857142)\n",
            "Win/lose count 7.0/3.0. Average score (8.120689655172415)\n",
            "Win/lose count 4.0/0. Average score (7.983333333333333)\n",
            "Win/lose count 10.5/1.0. Average score (8.03225806451613)\n",
            "Win/lose count 22.5/8.0. Average score (8.234375)\n",
            "Win/lose count 7.0/1.0. Average score (8.166666666666666)\n",
            "Win/lose count 19.5/1.0. Average score (8.470588235294118)\n",
            "Win/lose count 8.0/3.0. Average score (8.371428571428572)\n",
            "Win/lose count 7.5/2.0. Average score (8.291666666666666)\n",
            "Win/lose count 8.0/1.0. Average score (8.256756756756756)\n",
            "Win/lose count 16.0/3.0. Average score (8.381578947368421)\n",
            "Win/lose count 8.5/2.0. Average score (8.333333333333334)\n",
            "Win/lose count 16.5/2.0. Average score (8.4875)\n",
            "Win/lose count 12.0/2.0. Average score (8.524390243902438)\n",
            "Win/lose count 5.0/0. Average score (8.44047619047619)\n",
            "Win/lose count 13.0/5.0. Average score (8.430232558139535)\n",
            "Win/lose count 9.0/4.0. Average score (8.352272727272727)\n",
            "Win/lose count 9.5/5.0. Average score (8.266666666666667)\n",
            "Win/lose count 13.5/1.0. Average score (8.358695652173912)\n",
            "Win/lose count 9.0/1.0. Average score (8.351063829787234)\n",
            "Win/lose count 5.0/2.0. Average score (8.239583333333334)\n",
            "Win/lose count 9.0/1.0. Average score (8.23469387755102)\n",
            "Win/lose count 14.5/2.0. Average score (8.32)\n",
            "Final score: 8.32\n",
            "Test of the FC\n",
            "Win/lose count 11.5/0. Average score (11.5)\n",
            "Win/lose count 10.0/1.0. Average score (10.25)\n",
            "Win/lose count 16.0/3.0. Average score (11.166666666666666)\n",
            "Win/lose count 13.5/3.0. Average score (11.0)\n",
            "Win/lose count 6.0/6.0. Average score (8.8)\n",
            "Win/lose count 5.5/3.0. Average score (7.75)\n",
            "Win/lose count 13.5/4.0. Average score (8.0)\n",
            "Win/lose count 9.5/2.0. Average score (7.9375)\n",
            "Win/lose count 10.0/7.0. Average score (7.388888888888889)\n",
            "Win/lose count 11.0/5.0. Average score (7.25)\n",
            "Win/lose count 16.5/5.0. Average score (7.636363636363637)\n",
            "Win/lose count 10.0/4.0. Average score (7.5)\n",
            "Win/lose count 6.5/4.0. Average score (7.115384615384615)\n",
            "Win/lose count 18.0/3.0. Average score (7.678571428571429)\n",
            "Win/lose count 9.0/1.0. Average score (7.7)\n",
            "Win/lose count 13.5/1.0. Average score (8.0)\n",
            "Win/lose count 21.5/4.0. Average score (8.558823529411764)\n",
            "Win/lose count 9.0/2.0. Average score (8.472222222222221)\n",
            "Win/lose count 8.0/1.0. Average score (8.394736842105264)\n",
            "Win/lose count 5.5/3.0. Average score (8.1)\n",
            "Win/lose count 9.5/3.0. Average score (8.023809523809524)\n",
            "Win/lose count 3.5/0. Average score (7.818181818181818)\n",
            "Win/lose count 11.5/2.0. Average score (7.891304347826087)\n",
            "Win/lose count 4.5/2.0. Average score (7.666666666666667)\n",
            "Win/lose count 11.0/1.0. Average score (7.76)\n",
            "Win/lose count 6.0/3.0. Average score (7.576923076923077)\n",
            "Win/lose count 9.0/6.0. Average score (7.407407407407407)\n",
            "Win/lose count 5.5/4.0. Average score (7.196428571428571)\n",
            "Win/lose count 11.5/4.0. Average score (7.206896551724138)\n",
            "Win/lose count 16.5/3.0. Average score (7.416666666666667)\n",
            "Win/lose count 4.0/1.0. Average score (7.274193548387097)\n",
            "Win/lose count 11.0/2.0. Average score (7.328125)\n",
            "Win/lose count 9.0/6.0. Average score (7.196969696969697)\n",
            "Win/lose count 19.0/4.0. Average score (7.426470588235294)\n",
            "Win/lose count 13.0/3.0. Average score (7.5)\n",
            "Win/lose count 11.5/4.0. Average score (7.5)\n",
            "Win/lose count 15.0/5.0. Average score (7.5675675675675675)\n",
            "Win/lose count 5.0/0. Average score (7.5)\n",
            "Win/lose count 12.0/1.0. Average score (7.589743589743589)\n",
            "Win/lose count 9.0/2.0. Average score (7.575)\n",
            "Win/lose count 11.0/6.0. Average score (7.512195121951219)\n",
            "Win/lose count 9.5/2.0. Average score (7.511904761904762)\n",
            "Win/lose count 4.5/4.0. Average score (7.348837209302325)\n",
            "Win/lose count 9.0/4.0. Average score (7.295454545454546)\n",
            "Win/lose count 4.5/0. Average score (7.233333333333333)\n",
            "Win/lose count 8.5/2.0. Average score (7.217391304347826)\n",
            "Win/lose count 16.0/4.0. Average score (7.319148936170213)\n",
            "Win/lose count 7.0/3.0. Average score (7.25)\n",
            "Win/lose count 12.0/3.0. Average score (7.285714285714286)\n",
            "Win/lose count 7.0/1.0. Average score (7.26)\n",
            "Final score: 7.26\n"
          ],
          "name": "stdout"
        }
      ]
    },
    {
      "cell_type": "code",
      "metadata": {
        "id": "rkLAvYTxb90j",
        "colab_type": "code",
        "colab": {
          "base_uri": "https://localhost:8080/",
          "height": 293
        },
        "outputId": "2c6e9387-79ee-4adb-8adc-128f6d98c898"
      },
      "source": [
        "HTML(display_videos('cnn_test10.mp4'))"
      ],
      "execution_count": 22,
      "outputs": [
        {
          "output_type": "execute_result",
          "data": {
            "text/html": [
              "<video alt=\"test\" controls>\n",
              "                <source src=\"data:video/mp4;base64,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\" type=\"video/mp4\" />\n",
              "             </video>"
            ],
            "text/plain": [
              "<IPython.core.display.HTML object>"
            ]
          },
          "metadata": {
            "tags": []
          },
          "execution_count": 22
        }
      ]
    },
    {
      "cell_type": "code",
      "metadata": {
        "id": "tgTMtvQyb90m",
        "colab_type": "code",
        "colab": {
          "base_uri": "https://localhost:8080/",
          "height": 293
        },
        "outputId": "e4e61d56-53d4-4f24-9f34-a70d6beaed35"
      },
      "source": [
        "HTML(display_videos('fc_test10.mp4'))"
      ],
      "execution_count": 23,
      "outputs": [
        {
          "output_type": "execute_result",
          "data": {
            "text/html": [
              "<video alt=\"test\" controls>\n",
              "                <source src=\"data:video/mp4;base64,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\" type=\"video/mp4\" />\n",
              "             </video>"
            ],
            "text/plain": [
              "<IPython.core.display.HTML object>"
            ]
          },
          "metadata": {
            "tags": []
          },
          "execution_count": 23
        }
      ]
    },
    {
      "cell_type": "markdown",
      "metadata": {
        "id": "AHf9JUGmb90r",
        "colab_type": "text"
      },
      "source": [
        "The temperature increase the density of reward pixel. So it increase the results.\n",
        "\n",
        "We observe that the rat do not explore the game and tends to be stuck and oscillate between 2 positions."
      ]
    },
    {
      "cell_type": "markdown",
      "metadata": {
        "id": "ubZAEGh4b90s",
        "colab_type": "text"
      },
      "source": [
        "***\n",
        "\n",
        "The algorithm tends to not explore the map which can be an issue. We propose two ideas in order to encourage exploration:\n",
        "1. Incorporating a decreasing $\\epsilon$-greedy exploration. You can use the method ```set_epsilon```\n",
        "2. Append via the environment a new state that describes if a cell has been visited or not\n",
        "\n",
        "***\n",
        "__Question 10__ Design a new ```train_explore``` function and environment class ```EnvironmentExploring``` to tackle the issue of exploration.\n",
        "\n"
      ]
    },
    {
      "cell_type": "code",
      "metadata": {
        "id": "yqNjG992b90t",
        "colab_type": "code",
        "colab": {}
      },
      "source": [
        "def train_explore(agent,env,epoch,epsilon=0.1, decay=0.99, prefix=''):\n",
        "    # Number of won games\n",
        "    score = 0\n",
        "    loss = 0\n",
        "\n",
        "    for e in range(epoch):\n",
        "        # At each epoch, we restart to a fresh game and get the initial state\n",
        "        state = env.reset()\n",
        "        # This assumes that the games will terminate\n",
        "        game_over = False\n",
        "\n",
        "        win = 0\n",
        "        lose = 0\n",
        "        \n",
        "        agent.set_epsilon(epsilon)\n",
        "\n",
        "        while not game_over:\n",
        "            # The agent performs an action\n",
        "            action = agent.act(state)\n",
        "\n",
        "            agent.epsilon =agent.epsilon*decay\n",
        "            \n",
        "            # Apply an action to the environment, get the next state, the reward\n",
        "            # and if the games end\n",
        "            prev_state = state\n",
        "            state, reward, game_over = env.act(action, train=True)\n",
        "\n",
        "            # Update the counters\n",
        "            if reward > 0:\n",
        "                win = win + reward\n",
        "            if reward < 0:\n",
        "                lose = lose -reward\n",
        "                \n",
        "            # Apply the reinforcement strategy\n",
        "            loss = agent.reinforce(prev_state, state,  action, reward, game_over)\n",
        "\n",
        "        # Save as a mp4\n",
        "        if e % 10 == 0:\n",
        "            env.draw(prefix+str(e))\n",
        "\n",
        "        # Update stats\n",
        "        score += win-lose\n",
        "\n",
        "        print(\"Epoch {:03d}/{:03d} | Loss {:.4f} | Win/lose count {}/{} ({})\"\n",
        "              .format(e, epoch, loss, win, lose, win-lose))\n",
        "        agent.save(name_weights=prefix+'model.h5',name_model=prefix+'model.json')\n",
        "        \n",
        "        \n",
        "        \n",
        "class EnvironmentExploring(object):\n",
        "    def __init__(self, grid_size=10, max_time=500, temperature=0.1):\n",
        "        grid_size = grid_size+4\n",
        "        self.grid_size = grid_size\n",
        "        self.max_time = max_time\n",
        "        self.temperature = temperature\n",
        "\n",
        "        #board on which one plays\n",
        "        self.board = np.zeros((grid_size,grid_size))\n",
        "        self.position = np.zeros((grid_size,grid_size))\n",
        "        \n",
        "        #NEW\n",
        "        self.malus_position = np.zeros((grid_size,grid_size))\n",
        "\n",
        "        # coordinate of the cat\n",
        "        self.x = 0\n",
        "        self.y = 1\n",
        "\n",
        "        # self time\n",
        "        self.t = 0\n",
        "\n",
        "        self.scale=16\n",
        "\n",
        "        self.to_draw = np.zeros((max_time+2, grid_size*self.scale, grid_size*self.scale, 3))\n",
        "\n",
        "\n",
        "    def draw(self,e):\n",
        "        skvideo.io.vwrite(str(e) + '.mp4', self.to_draw)\n",
        "\n",
        "    def get_frame(self,t):\n",
        "        b = np.zeros((self.grid_size,self.grid_size,3))+128\n",
        "        b[self.board>0,0] = 256\n",
        "        b[self.board < 0, 2] = 256\n",
        "        b[self.x,self.y,:]=256\n",
        "        b[-2:,:,:]=0\n",
        "        b[:,-2:,:]=0\n",
        "        b[:2,:,:]=0\n",
        "        b[:,:2,:]=0\n",
        "        \n",
        "        b =  cv2.resize(b, None, fx=self.scale, fy=self.scale, interpolation=cv2.INTER_NEAREST)\n",
        "\n",
        "        self.to_draw[t,:,:,:]=b\n",
        "\n",
        "\n",
        "    def act(self, action, train=False):\n",
        "        \"\"\"This function returns the new state, reward and decides if the\n",
        "        game ends.\"\"\"\n",
        "\n",
        "        self.get_frame(int(self.t))\n",
        "\n",
        "        self.position = np.zeros((self.grid_size, self.grid_size))\n",
        "\n",
        "        self.position[0:2,:]= -1\n",
        "        self.position[:,0:2] = -1\n",
        "        self.position[-2:, :] = -1\n",
        "        self.position[:, -2:] = -1\n",
        "\n",
        "        self.position[self.x, self.y] = 1\n",
        "        if action == 0:\n",
        "            if self.x == self.grid_size-3:\n",
        "                self.x = self.x-1\n",
        "            else:\n",
        "                self.x = self.x + 1\n",
        "        elif action == 1:\n",
        "            if self.x == 2:\n",
        "                self.x = self.x+1\n",
        "            else:\n",
        "                self.x = self.x-1\n",
        "        elif action == 2:\n",
        "            if self.y == self.grid_size - 3:\n",
        "                self.y = self.y - 1\n",
        "            else:\n",
        "                self.y = self.y + 1\n",
        "        elif action == 3:\n",
        "            if self.y == 2:\n",
        "                self.y = self.y + 1\n",
        "            else:\n",
        "                self.y = self.y - 1\n",
        "        else:\n",
        "            RuntimeError('Error: action not recognized')\n",
        "\n",
        "        self.t = self.t + 1\n",
        "        \n",
        "        #new\n",
        "        reward = 0\n",
        "        if train:\n",
        "            reward = -self.malus_position[self.x, self.y]\n",
        "        self.malus_position[self.x, self.y] += 0.1\n",
        "        reward = reward + self.board[self.x, self.y]   \n",
        "        \n",
        "        \n",
        "        self.board[self.x, self.y] = 0\n",
        "        game_over = self.t > self.max_time \n",
        "        state = np.concatenate((self.malus_position.reshape(self.grid_size, self.grid_size,1),\n",
        "                                self.board.reshape(self.grid_size, self.grid_size,1),\n",
        "                                self.position.reshape(self.grid_size, self.grid_size,1)),axis=2)\n",
        "        state = state[self.x-2:self.x+3,self.y-2:self.y+3,:]\n",
        "\n",
        "        return state, reward, game_over\n",
        "\n",
        "    def reset(self):\n",
        "        \"\"\"This function resets the game and returns the initial state\"\"\"\n",
        "\n",
        "        self.x = np.random.randint(3, self.grid_size-3, size=1)[0]\n",
        "        self.y = np.random.randint(3, self.grid_size-3, size=1)[0]\n",
        "\n",
        "        \n",
        "        bonus = 0.5*np.random.binomial(1,self.temperature,size=self.grid_size**2)\n",
        "        bonus = bonus.reshape(self.grid_size,self.grid_size)\n",
        "\n",
        "        malus = -1.0*np.random.binomial(1,self.temperature,size=self.grid_size**2)\n",
        "        malus = malus.reshape(self.grid_size, self.grid_size)\n",
        "\n",
        "        self.to_draw = np.zeros((self.max_time+2, self.grid_size*self.scale, self.grid_size*self.scale, 3))\n",
        "\n",
        "\n",
        "        malus[bonus>0]=0 \n",
        "        \n",
        "        self.board = bonus + malus \n",
        "        \n",
        "        self.board[:2,:] = 0\n",
        "        self.board[-2:,:] = 0\n",
        "        self.board[:, :2] = 0\n",
        "        self.board[:, -2:] = 0\n",
        "\n",
        "        self.position = np.zeros((self.grid_size, self.grid_size))\n",
        "        self.position[0:2,:]= -1\n",
        "        self.position[:,0:2] = -1\n",
        "        self.position[-2:, :] = -1 # error, 2 times same line\n",
        "        self.position[:, -2:] = -1\n",
        "        self.board[self.x,self.y] = 0\n",
        "        self.t = 0\n",
        "        \n",
        "        self.malus_position = np.zeros((self.grid_size, self.grid_size))\n",
        "\n",
        "        state = np.concatenate((self.malus_position.reshape(self.grid_size, self.grid_size,1),\n",
        "                                self.board.reshape(self.grid_size, self.grid_size,1),\n",
        "                                self.position.reshape(self.grid_size, self.grid_size,1)),axis=2)\n",
        "\n",
        "        state = state[self.x - 2:self.x + 3, self.y - 2:self.y + 3, :]\n",
        "        return state"
      ],
      "execution_count": 0,
      "outputs": []
    },
    {
      "cell_type": "code",
      "metadata": {
        "id": "p0qgBCXcb90w",
        "colab_type": "code",
        "colab": {
          "base_uri": "https://localhost:8080/",
          "height": 1000
        },
        "outputId": "0d526351-98e8-4fd6-c7ae-18c42422e594"
      },
      "source": [
        "# Training\n",
        "env = EnvironmentExploring(grid_size=size, max_time=T, temperature=0.3)\n",
        "agent = DQN_CNN(size, lr=.1, epsilon = 0.1, memory_size=2000, batch_size = 32,n_state=3)\n",
        "train_explore(agent, env, epochs_train, prefix='cnn_train_explore')\n",
        "HTML(display_videos('cnn_train_explore10.mp4'))"
      ],
      "execution_count": 26,
      "outputs": [
        {
          "output_type": "stream",
          "text": [
            "Epoch 000/100 | Loss 0.0657 | Win/lose count 11.5/48.70000000000006 (-37.20000000000006)\n",
            "Epoch 001/100 | Loss 0.0108 | Win/lose count 18.0/28.300000000000015 (-10.300000000000015)\n",
            "Epoch 002/100 | Loss 0.0067 | Win/lose count 23.0/13.299999999999983 (9.700000000000017)\n",
            "Epoch 003/100 | Loss 0.0653 | Win/lose count 17.5/34.90000000000001 (-17.400000000000013)\n",
            "Epoch 004/100 | Loss 0.0408 | Win/lose count 16.5/18.800000000000008 (-2.300000000000008)\n",
            "Epoch 005/100 | Loss 0.0338 | Win/lose count 19.5/17.09999999999999 (2.4000000000000092)\n",
            "Epoch 006/100 | Loss 0.0127 | Win/lose count 20.0/19.19999999999999 (0.8000000000000114)\n",
            "Epoch 007/100 | Loss 0.0398 | Win/lose count 22.5/13.999999999999973 (8.500000000000027)\n",
            "Epoch 008/100 | Loss 0.0225 | Win/lose count 21.0/21.699999999999996 (-0.6999999999999957)\n",
            "Epoch 009/100 | Loss 0.0096 | Win/lose count 25.0/13.399999999999977 (11.600000000000023)\n",
            "Epoch 010/100 | Loss 0.0121 | Win/lose count 24.0/17.09999999999998 (6.90000000000002)\n",
            "Epoch 011/100 | Loss 0.0178 | Win/lose count 27.5/13.29999999999998 (14.20000000000002)\n",
            "Epoch 012/100 | Loss 0.0571 | Win/lose count 21.0/17.799999999999986 (3.2000000000000135)\n",
            "Epoch 013/100 | Loss 0.0142 | Win/lose count 23.0/17.599999999999984 (5.400000000000016)\n",
            "Epoch 014/100 | Loss 0.0092 | Win/lose count 23.5/12.899999999999983 (10.600000000000017)\n",
            "Epoch 015/100 | Loss 0.0150 | Win/lose count 18.5/21.200000000000014 (-2.7000000000000135)\n",
            "Epoch 016/100 | Loss 0.0126 | Win/lose count 26.5/14.099999999999984 (12.400000000000016)\n",
            "Epoch 017/100 | Loss 0.0139 | Win/lose count 25.5/13.599999999999985 (11.900000000000015)\n",
            "Epoch 018/100 | Loss 0.0129 | Win/lose count 16.5/36.39999999999999 (-19.89999999999999)\n",
            "Epoch 019/100 | Loss 0.0214 | Win/lose count 30.5/13.899999999999986 (16.600000000000016)\n",
            "Epoch 020/100 | Loss 0.0115 | Win/lose count 22.0/19.49999999999999 (2.5000000000000107)\n",
            "Epoch 021/100 | Loss 0.0085 | Win/lose count 31.0/13.399999999999988 (17.600000000000012)\n",
            "Epoch 022/100 | Loss 0.0148 | Win/lose count 29.5/18.29999999999999 (11.20000000000001)\n",
            "Epoch 023/100 | Loss 0.0108 | Win/lose count 26.5/21.500000000000018 (4.999999999999982)\n",
            "Epoch 024/100 | Loss 0.0082 | Win/lose count 21.5/18.099999999999984 (3.4000000000000163)\n",
            "Epoch 025/100 | Loss 0.0067 | Win/lose count 17.5/15.499999999999979 (2.0000000000000213)\n",
            "Epoch 026/100 | Loss 0.0075 | Win/lose count 25.0/15.199999999999983 (9.800000000000017)\n",
            "Epoch 027/100 | Loss 0.0343 | Win/lose count 32.0/10.699999999999983 (21.30000000000002)\n",
            "Epoch 028/100 | Loss 0.0091 | Win/lose count 25.0/13.599999999999978 (11.400000000000022)\n",
            "Epoch 029/100 | Loss 0.0209 | Win/lose count 21.0/11.999999999999984 (9.000000000000016)\n",
            "Epoch 030/100 | Loss 0.0085 | Win/lose count 19.0/22.29999999999998 (-3.2999999999999794)\n",
            "Epoch 031/100 | Loss 0.0093 | Win/lose count 19.5/41.39999999999999 (-21.89999999999999)\n",
            "Epoch 032/100 | Loss 0.0075 | Win/lose count 22.5/21.200000000000003 (1.2999999999999972)\n",
            "Epoch 033/100 | Loss 0.0072 | Win/lose count 22.5/18.599999999999994 (3.9000000000000057)\n",
            "Epoch 034/100 | Loss 0.0047 | Win/lose count 17.5/14.89999999999999 (2.6000000000000103)\n",
            "Epoch 035/100 | Loss 0.0102 | Win/lose count 20.5/23.5 (-3.0)\n",
            "Epoch 036/100 | Loss 0.0047 | Win/lose count 23.5/13.39999999999998 (10.10000000000002)\n",
            "Epoch 037/100 | Loss 0.0094 | Win/lose count 22.5/11.59999999999999 (10.90000000000001)\n",
            "Epoch 038/100 | Loss 0.0078 | Win/lose count 24.0/19.899999999999995 (4.100000000000005)\n",
            "Epoch 039/100 | Loss 0.0073 | Win/lose count 21.5/23.099999999999994 (-1.5999999999999943)\n",
            "Epoch 040/100 | Loss 0.0087 | Win/lose count 24.0/18.8 (5.199999999999999)\n",
            "Epoch 041/100 | Loss 0.0091 | Win/lose count 25.0/11.199999999999983 (13.800000000000017)\n",
            "Epoch 042/100 | Loss 0.0076 | Win/lose count 23.0/18.399999999999988 (4.600000000000012)\n",
            "Epoch 043/100 | Loss 0.0135 | Win/lose count 25.0/16.599999999999984 (8.400000000000016)\n",
            "Epoch 044/100 | Loss 0.0079 | Win/lose count 22.5/17.400000000000002 (5.099999999999998)\n",
            "Epoch 045/100 | Loss 0.0069 | Win/lose count 24.0/23.2 (0.8000000000000007)\n",
            "Epoch 046/100 | Loss 0.0061 | Win/lose count 25.5/21.4 (4.100000000000001)\n",
            "Epoch 047/100 | Loss 0.0236 | Win/lose count 27.0/18.099999999999984 (8.900000000000016)\n",
            "Epoch 048/100 | Loss 0.0035 | Win/lose count 24.5/12.399999999999979 (12.100000000000021)\n",
            "Epoch 049/100 | Loss 0.0073 | Win/lose count 26.0/10.499999999999988 (15.500000000000012)\n",
            "Epoch 050/100 | Loss 0.0098 | Win/lose count 22.5/12.39999999999998 (10.10000000000002)\n",
            "Epoch 051/100 | Loss 0.0029 | Win/lose count 21.0/20.59999999999999 (0.40000000000000924)\n",
            "Epoch 052/100 | Loss 0.0399 | Win/lose count 23.5/20.599999999999994 (2.9000000000000057)\n",
            "Epoch 053/100 | Loss 0.0262 | Win/lose count 22.5/16.79999999999999 (5.70000000000001)\n",
            "Epoch 054/100 | Loss 0.0054 | Win/lose count 24.0/16.89999999999998 (7.100000000000019)\n",
            "Epoch 055/100 | Loss 0.0087 | Win/lose count 25.0/17.499999999999993 (7.500000000000007)\n",
            "Epoch 056/100 | Loss 0.0090 | Win/lose count 21.5/22.4 (-0.8999999999999986)\n",
            "Epoch 057/100 | Loss 0.0063 | Win/lose count 25.0/13.099999999999987 (11.900000000000013)\n",
            "Epoch 058/100 | Loss 0.0048 | Win/lose count 14.5/16.79999999999999 (-2.29999999999999)\n",
            "Epoch 059/100 | Loss 0.0041 | Win/lose count 28.0/14.399999999999983 (13.600000000000017)\n",
            "Epoch 060/100 | Loss 0.0057 | Win/lose count 24.0/29.10000000000002 (-5.100000000000019)\n",
            "Epoch 061/100 | Loss 0.0090 | Win/lose count 21.5/17.299999999999983 (4.200000000000017)\n",
            "Epoch 062/100 | Loss 0.0048 | Win/lose count 23.0/23.60000000000004 (-0.6000000000000405)\n",
            "Epoch 063/100 | Loss 0.0081 | Win/lose count 27.0/16.799999999999986 (10.200000000000014)\n",
            "Epoch 064/100 | Loss 0.0200 | Win/lose count 23.5/13.69999999999998 (9.80000000000002)\n",
            "Epoch 065/100 | Loss 0.0051 | Win/lose count 24.0/21.500000000000007 (2.499999999999993)\n",
            "Epoch 066/100 | Loss 0.0037 | Win/lose count 25.5/24.49999999999999 (1.0000000000000107)\n",
            "Epoch 067/100 | Loss 0.0056 | Win/lose count 25.0/13.399999999999988 (11.600000000000012)\n",
            "Epoch 068/100 | Loss 0.0070 | Win/lose count 22.5/12.599999999999984 (9.900000000000016)\n",
            "Epoch 069/100 | Loss 0.0074 | Win/lose count 25.0/22.899999999999984 (2.1000000000000156)\n",
            "Epoch 070/100 | Loss 0.0051 | Win/lose count 22.5/14.699999999999982 (7.8000000000000185)\n",
            "Epoch 071/100 | Loss 0.0331 | Win/lose count 31.0/14.799999999999985 (16.200000000000017)\n",
            "Epoch 072/100 | Loss 0.0087 | Win/lose count 27.0/18.39999999999999 (8.600000000000009)\n",
            "Epoch 073/100 | Loss 0.0035 | Win/lose count 20.0/15.899999999999979 (4.100000000000021)\n",
            "Epoch 074/100 | Loss 0.0070 | Win/lose count 24.5/16.299999999999976 (8.200000000000024)\n",
            "Epoch 075/100 | Loss 0.0084 | Win/lose count 24.5/14.999999999999977 (9.500000000000023)\n",
            "Epoch 076/100 | Loss 0.0065 | Win/lose count 24.0/14.799999999999983 (9.200000000000017)\n",
            "Epoch 077/100 | Loss 0.0052 | Win/lose count 22.0/20.799999999999994 (1.2000000000000064)\n",
            "Epoch 078/100 | Loss 0.0054 | Win/lose count 29.0/12.899999999999988 (16.100000000000012)\n",
            "Epoch 079/100 | Loss 0.0092 | Win/lose count 19.5/20.5 (-1.0)\n",
            "Epoch 080/100 | Loss 0.0058 | Win/lose count 16.0/25.899999999999988 (-9.899999999999988)\n",
            "Epoch 081/100 | Loss 0.0034 | Win/lose count 23.0/21.499999999999993 (1.500000000000007)\n",
            "Epoch 082/100 | Loss 0.0037 | Win/lose count 23.0/20.599999999999987 (2.400000000000013)\n",
            "Epoch 083/100 | Loss 0.0071 | Win/lose count 29.0/14.199999999999985 (14.800000000000015)\n",
            "Epoch 084/100 | Loss 0.0069 | Win/lose count 24.5/14.099999999999987 (10.400000000000013)\n",
            "Epoch 085/100 | Loss 0.0080 | Win/lose count 21.0/24.700000000000017 (-3.700000000000017)\n",
            "Epoch 086/100 | Loss 0.0042 | Win/lose count 29.0/14.999999999999984 (14.000000000000016)\n",
            "Epoch 087/100 | Loss 0.0062 | Win/lose count 26.0/18.299999999999997 (7.700000000000003)\n",
            "Epoch 088/100 | Loss 0.0038 | Win/lose count 27.0/9.69999999999999 (17.30000000000001)\n",
            "Epoch 089/100 | Loss 0.0026 | Win/lose count 27.0/12.899999999999986 (14.100000000000014)\n",
            "Epoch 090/100 | Loss 0.0031 | Win/lose count 26.5/14.89999999999998 (11.60000000000002)\n",
            "Epoch 091/100 | Loss 0.0067 | Win/lose count 25.5/13.499999999999986 (12.000000000000014)\n",
            "Epoch 092/100 | Loss 0.0330 | Win/lose count 26.0/12.599999999999989 (13.400000000000011)\n",
            "Epoch 093/100 | Loss 0.0069 | Win/lose count 22.5/17.199999999999992 (5.300000000000008)\n",
            "Epoch 094/100 | Loss 0.0058 | Win/lose count 24.0/20.699999999999992 (3.300000000000008)\n",
            "Epoch 095/100 | Loss 0.0128 | Win/lose count 19.0/26.500000000000018 (-7.500000000000018)\n",
            "Epoch 096/100 | Loss 0.0056 | Win/lose count 28.5/17.69999999999999 (10.800000000000011)\n",
            "Epoch 097/100 | Loss 0.0066 | Win/lose count 29.0/12.199999999999982 (16.80000000000002)\n",
            "Epoch 098/100 | Loss 0.0060 | Win/lose count 25.5/14.299999999999976 (11.200000000000024)\n",
            "Epoch 099/100 | Loss 0.0038 | Win/lose count 23.0/12.699999999999987 (10.300000000000013)\n"
          ],
          "name": "stdout"
        },
        {
          "output_type": "execute_result",
          "data": {
            "text/html": [
              "<video alt=\"test\" controls>\n",
              "                <source src=\"data:video/mp4;base64,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\" type=\"video/mp4\" />\n",
              "             </video>"
            ],
            "text/plain": [
              "<IPython.core.display.HTML object>"
            ]
          },
          "metadata": {
            "tags": []
          },
          "execution_count": 26
        }
      ]
    },
    {
      "cell_type": "code",
      "metadata": {
        "id": "080RgfSGb90z",
        "colab_type": "code",
        "colab": {
          "base_uri": "https://localhost:8080/",
          "height": 1000
        },
        "outputId": "1c89a16c-c32a-4067-9f90-9a86f86cc123"
      },
      "source": [
        "# Evaluation\n",
        "test(agent,env,epochs_test,prefix='cnn_test_explore')\n",
        "HTML(display_videos('cnn_test_explore10.mp4'))"
      ],
      "execution_count": 27,
      "outputs": [
        {
          "output_type": "stream",
          "text": [
            "Win/lose count 28.5/2.0. Average score (26.5)\n",
            "Win/lose count 19.0/5.0. Average score (20.25)\n",
            "Win/lose count 22.5/2.0. Average score (20.333333333333332)\n",
            "Win/lose count 20.5/2.0. Average score (19.875)\n",
            "Win/lose count 26.0/2.0. Average score (20.7)\n",
            "Win/lose count 22.5/1.0. Average score (20.833333333333332)\n",
            "Win/lose count 22.0/1.0. Average score (20.857142857142858)\n",
            "Win/lose count 27.5/1.0. Average score (21.5625)\n",
            "Win/lose count 25.5/3.0. Average score (21.666666666666668)\n",
            "Win/lose count 26.0/0. Average score (22.1)\n",
            "Win/lose count 27.0/0. Average score (22.545454545454547)\n",
            "Win/lose count 27.5/0. Average score (22.958333333333332)\n",
            "Win/lose count 24.5/2.0. Average score (22.923076923076923)\n",
            "Win/lose count 27.0/3.0. Average score (23.0)\n",
            "Win/lose count 20.0/2.0. Average score (22.666666666666668)\n",
            "Win/lose count 23.5/2.0. Average score (22.59375)\n",
            "Win/lose count 23.0/2.0. Average score (22.5)\n",
            "Win/lose count 26.0/1.0. Average score (22.63888888888889)\n",
            "Win/lose count 22.5/1.0. Average score (22.57894736842105)\n",
            "Win/lose count 21.0/3.0. Average score (22.35)\n",
            "Win/lose count 20.5/1.0. Average score (22.214285714285715)\n",
            "Win/lose count 19.5/1.0. Average score (22.045454545454547)\n",
            "Win/lose count 10.0/5.0. Average score (21.304347826086957)\n",
            "Win/lose count 25.5/1.0. Average score (21.4375)\n",
            "Win/lose count 22.5/4.0. Average score (21.32)\n",
            "Win/lose count 20.0/1.0. Average score (21.23076923076923)\n",
            "Win/lose count 23.0/1.0. Average score (21.25925925925926)\n",
            "Win/lose count 19.0/1.0. Average score (21.142857142857142)\n",
            "Win/lose count 25.5/1.0. Average score (21.25862068965517)\n",
            "Win/lose count 22.5/1.0. Average score (21.266666666666666)\n",
            "Win/lose count 20.0/2.0. Average score (21.161290322580644)\n",
            "Win/lose count 27.0/0. Average score (21.34375)\n",
            "Win/lose count 26.0/0. Average score (21.484848484848484)\n",
            "Win/lose count 23.5/2.0. Average score (21.485294117647058)\n",
            "Win/lose count 25.0/2.0. Average score (21.52857142857143)\n",
            "Win/lose count 22.0/0. Average score (21.541666666666668)\n",
            "Win/lose count 23.0/3.0. Average score (21.5)\n",
            "Win/lose count 20.5/4.0. Average score (21.36842105263158)\n",
            "Win/lose count 21.0/0. Average score (21.358974358974358)\n",
            "Win/lose count 21.0/3.0. Average score (21.275)\n",
            "Win/lose count 21.0/2.0. Average score (21.21951219512195)\n",
            "Win/lose count 15.0/1.0. Average score (21.047619047619047)\n",
            "Win/lose count 24.0/1.0. Average score (21.093023255813954)\n",
            "Win/lose count 21.0/1.0. Average score (21.068181818181817)\n",
            "Win/lose count 17.0/1.0. Average score (20.955555555555556)\n",
            "Win/lose count 15.5/2.0. Average score (20.793478260869566)\n",
            "Win/lose count 19.0/4.0. Average score (20.670212765957448)\n",
            "Win/lose count 25.0/2.0. Average score (20.71875)\n",
            "Win/lose count 24.0/3.0. Average score (20.724489795918366)\n",
            "Win/lose count 22.5/0. Average score (20.76)\n",
            "Final score: 20.76\n"
          ],
          "name": "stdout"
        },
        {
          "output_type": "execute_result",
          "data": {
            "text/html": [
              "<video alt=\"test\" controls>\n",
              "                <source src=\"data:video/mp4;base64,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\" type=\"video/mp4\" />\n",
              "             </video>"
            ],
            "text/plain": [
              "<IPython.core.display.HTML object>"
            ]
          },
          "metadata": {
            "tags": []
          },
          "execution_count": 27
        }
      ]
    },
    {
      "cell_type": "markdown",
      "metadata": {
        "id": "KcZ9ou3xb902",
        "colab_type": "text"
      },
      "source": [
        "***\n",
        "***\n",
        "__BONUS question__ Use the expert DQN from the previous question to generate some winning games. Train a model that mimicks its behavior. Compare the performances."
      ]
    },
    {
      "cell_type": "code",
      "metadata": {
        "id": "ux11hFlyczbz",
        "colab_type": "code",
        "colab": {}
      },
      "source": [
        "class Mimicks(Agent):\n",
        "    def __init__(self, grid_size,  epsilon = 0.1, memory_size=100, batch_size = 16,n_state=2):\n",
        "        super(Mimicks, self).__init__(epsilon = epsilon)\n",
        "        self.discount = 0.99\n",
        "        self.grid_size = grid_size\n",
        "        self.n_state = n_state\n",
        "        self.memory = Memory(memory_size)\n",
        "        self.batch_size = batch_size\n",
        "\n",
        "    def learned_act(self, s):\n",
        "        return np.argmax(self.model.predict(s.reshape([1,s.shape[0],s.shape[1],s.shape[2]]))[0,:])\n",
        "\n",
        "    def reinforce(self, s_, a_):\n",
        "        # Two steps: first memorize the states, second learn from the pool\n",
        "\n",
        "        self.memory.remember([s_[:,:,1:], a_])\n",
        "        \n",
        "        input_states = np.zeros((self.batch_size, 5,5,self.n_state))\n",
        "        target_q = np.zeros((self.batch_size, 4))\n",
        "        \n",
        "        for i in range(self.batch_size):\n",
        "            \n",
        "            s_, a_  = self.memory.random_access()\n",
        "            \n",
        "            target_q[i, a_] = 5\n",
        "            input_states[i] = s_\n",
        "        l = self.model.train_on_batch(input_states, target_q)\n",
        "        return l\n",
        "\n",
        "    def save(self,name_weights='model.h5',name_model='model.json'):\n",
        "        self.model.save_weights(name_weights, overwrite=True)\n",
        "        with open(name_model, \"w\") as outfile:\n",
        "            json.dump(self.model.to_json(), outfile)\n",
        "            \n",
        "    def load(self,name_weights='model.h5',name_model='model.json'):\n",
        "        with open(name_model, \"r\") as jfile:\n",
        "            model = model_from_json(json.load(jfile))\n",
        "        model.load_weights(name_weights)\n",
        "        model.compile(\"sgd\", \"mse\")\n",
        "        self.model = model\n",
        "        \n",
        "\n",
        "        \n",
        "class CNN_Mimicks(Mimicks):\n",
        "    def __init__(self, *args,lr=0.1,**kwargs):\n",
        "        super(CNN_Mimicks, self).__init__(*args,**kwargs)\n",
        "        \n",
        "        model = Sequential()\n",
        "        model.add(Conv2D(50,(2,2),input_shape=(5,5,self.n_state,),activation='relu'))\n",
        "        model.add(Flatten())\n",
        "        model.add(Dense(4))\n",
        "        model.compile(sgd(lr=lr, decay=1e-4, momentum=0.0), \"mse\")\n",
        "        self.model = model\n",
        "        \n",
        "\n",
        "def train_mimicks(ref, agent,env,epoch,epsilon=0.1, decay=0.99, prefix=''):\n",
        "    # Number of won games\n",
        "    score = 0\n",
        "    loss = 0\n",
        "\n",
        "    for e in range(epoch):\n",
        "        # At each epoch, we restart to a fresh game and get the initial state\n",
        "        state = env.reset()\n",
        "        # This assumes that the games will terminate\n",
        "        game_over = False\n",
        "\n",
        "        win = 0\n",
        "        lose = 0\n",
        "        \n",
        "        agent.set_epsilon(epsilon)\n",
        "\n",
        "        while not game_over:\n",
        "            # The agent performs an action\n",
        "            action = ref.act(state, train=False)\n",
        "\n",
        "            \n",
        "            # Apply an action to the environment, get the next state, the reward\n",
        "            # and if the games end\n",
        "            prev_state = state\n",
        "            state, reward, game_over = env.act(action, train=True)\n",
        "\n",
        "            # Update the counters\n",
        "            if reward > 0:\n",
        "                win = win + reward\n",
        "            if reward < 0:\n",
        "                lose = lose -reward\n",
        "                \n",
        "            # Apply the reinforcement strategy\n",
        "            loss = agent.reinforce(prev_state,  action)\n",
        "\n",
        "        # Save as a mp4\n",
        "        if e % 10 == 0:\n",
        "            env.draw(prefix+str(e))\n",
        "\n",
        "        # Update stats\n",
        "        score += win-lose\n",
        "\n",
        "        print(\"Epoch {:03d}/{:03d} | Loss {:.4f} | Win/lose count {}/{} ({})\"\n",
        "              .format(e, epoch, loss, win, lose, win-lose))\n",
        "        agent.save(name_weights=prefix+'model.h5',name_model=prefix+'model.json')\n",
        "        \n",
        "     "
      ],
      "execution_count": 0,
      "outputs": []
    },
    {
      "cell_type": "code",
      "metadata": {
        "id": "E1JXf8PSdhnH",
        "colab_type": "code",
        "colab": {
          "base_uri": "https://localhost:8080/",
          "height": 357
        },
        "outputId": "673b7fd1-fa53-43de-e3dc-cc4b058e1249"
      },
      "source": [
        "epochs_train = 20\n",
        "expert = agent\n",
        "agent_n = CNN_Mimicks(size, lr=.1, epsilon = 0.1, memory_size=2000, batch_size = 32,n_state=2)\n",
        "env = EnvironmentExploring(grid_size=size, max_time=T, temperature=0.3)\n",
        "train_mimicks(expert,agent_n, env, epochs_train, prefix='cnn_train_mimicks')"
      ],
      "execution_count": 30,
      "outputs": [
        {
          "output_type": "stream",
          "text": [
            "Epoch 000/020 | Loss 2.7271 | Win/lose count 25.0/10.099999999999985 (14.900000000000015)\n",
            "Epoch 001/020 | Loss 2.1295 | Win/lose count 27.5/20.200000000000003 (7.299999999999997)\n",
            "Epoch 002/020 | Loss 2.5208 | Win/lose count 23.5/19.9 (3.6000000000000014)\n",
            "Epoch 003/020 | Loss 2.4456 | Win/lose count 20.5/25.69999999999998 (-5.1999999999999815)\n",
            "Epoch 004/020 | Loss 2.7402 | Win/lose count 20.5/20.599999999999987 (-0.09999999999998721)\n",
            "Epoch 005/020 | Loss 2.5790 | Win/lose count 29.5/15.799999999999994 (13.700000000000006)\n",
            "Epoch 006/020 | Loss 2.2746 | Win/lose count 22.0/16.999999999999993 (5.000000000000007)\n",
            "Epoch 007/020 | Loss 2.8871 | Win/lose count 25.0/35.10000000000003 (-10.10000000000003)\n",
            "Epoch 008/020 | Loss 2.7178 | Win/lose count 18.0/16.099999999999987 (1.9000000000000128)\n",
            "Epoch 009/020 | Loss 2.8593 | Win/lose count 24.5/14.79999999999999 (9.70000000000001)\n",
            "Epoch 010/020 | Loss 2.9396 | Win/lose count 17.0/18.19999999999998 (-1.1999999999999815)\n",
            "Epoch 011/020 | Loss 2.2820 | Win/lose count 24.0/15.399999999999984 (8.600000000000016)\n",
            "Epoch 012/020 | Loss 3.3452 | Win/lose count 24.0/35.09999999999999 (-11.099999999999987)\n",
            "Epoch 013/020 | Loss 2.6058 | Win/lose count 29.0/19.199999999999996 (9.800000000000004)\n",
            "Epoch 014/020 | Loss 2.2922 | Win/lose count 19.5/15.399999999999984 (4.100000000000016)\n",
            "Epoch 015/020 | Loss 2.4496 | Win/lose count 23.0/14.199999999999987 (8.800000000000013)\n",
            "Epoch 016/020 | Loss 2.0359 | Win/lose count 23.5/12.59999999999999 (10.90000000000001)\n",
            "Epoch 017/020 | Loss 2.4185 | Win/lose count 22.0/15.399999999999983 (6.600000000000017)\n",
            "Epoch 018/020 | Loss 2.0802 | Win/lose count 17.0/32.800000000000004 (-15.800000000000004)\n",
            "Epoch 019/020 | Loss 2.6283 | Win/lose count 24.0/14.999999999999984 (9.000000000000016)\n"
          ],
          "name": "stdout"
        }
      ]
    },
    {
      "cell_type": "code",
      "metadata": {
        "id": "CJf41l_Sdz_H",
        "colab_type": "code",
        "colab": {
          "base_uri": "https://localhost:8080/",
          "height": 884
        },
        "outputId": "2d1d2361-5a8b-4bf7-be6e-c7e4dc893981"
      },
      "source": [
        "# Evaluation\n",
        "env_test = Environment(grid_size=size, max_time=T,temperature=0.3)\n",
        "test(agent_n,env_test,epochs_test,prefix='cnn_test_mimicks')"
      ],
      "execution_count": 31,
      "outputs": [
        {
          "output_type": "stream",
          "text": [
            "Win/lose count 13.5/3.0. Average score (10.5)\n",
            "Win/lose count 14.5/2.0. Average score (11.5)\n",
            "Win/lose count 15.0/6.0. Average score (10.666666666666666)\n",
            "Win/lose count 15.5/4.0. Average score (10.875)\n",
            "Win/lose count 17.0/5.0. Average score (11.1)\n",
            "Win/lose count 18.0/4.0. Average score (11.583333333333334)\n",
            "Win/lose count 21.0/5.0. Average score (12.214285714285714)\n",
            "Win/lose count 19.5/11.0. Average score (11.75)\n",
            "Win/lose count 14.5/2.0. Average score (11.833333333333334)\n",
            "Win/lose count 14.0/10.0. Average score (11.05)\n",
            "Win/lose count 19.5/13.0. Average score (10.636363636363637)\n",
            "Win/lose count 21.0/3.0. Average score (11.25)\n",
            "Win/lose count 11.5/2.0. Average score (11.115384615384615)\n",
            "Win/lose count 18.5/2.0. Average score (11.5)\n",
            "Win/lose count 25.0/3.0. Average score (12.2)\n",
            "Win/lose count 11.0/6.0. Average score (11.75)\n",
            "Win/lose count 17.0/5.0. Average score (11.764705882352942)\n",
            "Win/lose count 15.0/4.0. Average score (11.722222222222221)\n",
            "Win/lose count 16.0/3.0. Average score (11.789473684210526)\n",
            "Win/lose count 18.0/4.0. Average score (11.9)\n",
            "Win/lose count 9.5/0. Average score (11.785714285714286)\n",
            "Win/lose count 19.0/1.0. Average score (12.068181818181818)\n",
            "Win/lose count 25.0/7.0. Average score (12.326086956521738)\n",
            "Win/lose count 18.0/4.0. Average score (12.395833333333334)\n",
            "Win/lose count 13.0/5.0. Average score (12.22)\n",
            "Win/lose count 11.0/3.0. Average score (12.057692307692308)\n",
            "Win/lose count 10.5/3.0. Average score (11.88888888888889)\n",
            "Win/lose count 9.5/4.0. Average score (11.660714285714286)\n",
            "Win/lose count 11.0/6.0. Average score (11.431034482758621)\n",
            "Win/lose count 22.5/5.0. Average score (11.633333333333333)\n",
            "Win/lose count 17.5/4.0. Average score (11.693548387096774)\n",
            "Win/lose count 19.5/7.0. Average score (11.71875)\n",
            "Win/lose count 18.0/5.0. Average score (11.757575757575758)\n",
            "Win/lose count 9.5/3.0. Average score (11.602941176470589)\n",
            "Win/lose count 19.0/2.0. Average score (11.757142857142858)\n",
            "Win/lose count 6.0/1.0. Average score (11.569444444444445)\n",
            "Win/lose count 15.5/7.0. Average score (11.486486486486486)\n",
            "Win/lose count 17.0/5.0. Average score (11.5)\n",
            "Win/lose count 19.0/5.0. Average score (11.564102564102564)\n",
            "Win/lose count 18.5/6.0. Average score (11.5875)\n",
            "Win/lose count 15.0/5.0. Average score (11.548780487804878)\n",
            "Win/lose count 25.5/2.0. Average score (11.833333333333334)\n",
            "Win/lose count 15.5/9.0. Average score (11.709302325581396)\n",
            "Win/lose count 20.0/3.0. Average score (11.829545454545455)\n",
            "Win/lose count 24.0/4.0. Average score (12.011111111111111)\n",
            "Win/lose count 19.5/5.0. Average score (12.065217391304348)\n",
            "Win/lose count 10.5/1.0. Average score (12.01063829787234)\n",
            "Win/lose count 3.5/1.0. Average score (11.8125)\n",
            "Win/lose count 16.0/4.0. Average score (11.816326530612244)\n",
            "Win/lose count 2.5/1.0. Average score (11.61)\n",
            "Final score: 11.61\n"
          ],
          "name": "stdout"
        }
      ]
    },
    {
      "cell_type": "markdown",
      "metadata": {
        "id": "EMqO3bCTetSr",
        "colab_type": "text"
      },
      "source": [
        "This model learns faster but is not as performant as the last model."
      ]
    }
  ]
}